{
 "cells": [
  {
   "cell_type": "markdown",
   "id": "2145ddaa",
   "metadata": {},
   "source": [
    "1: Data Loading and Understading"
   ]
  },
  {
   "cell_type": "markdown",
   "id": "6c37a725",
   "metadata": {},
   "source": [
    "1.1 Data Loading and UnderStanding"
   ]
  },
  {
   "cell_type": "code",
   "execution_count": 5,
   "id": "a1f25913",
   "metadata": {},
   "outputs": [],
   "source": [
    "import pandas as pd\n",
    "\n",
    "# Load the datasets\n",
    "State_Txn_Users = pd.read_csv('phonepe-State_Txn and Users.csv')\n",
    "State_TxnSplit = pd.read_csv('phonepe-State_TxnSplit.csv')\n",
    "State_DeviceData = pd.read_csv('phonepe-State_DeviceData.csv')\n",
    "District_Txn_Users = pd.read_csv('phonepe-District_Txn and Users.csv')\n",
    "District_Demographics = pd.read_csv('phonepe-District_Demographics.csv')"
   ]
  },
  {
   "cell_type": "code",
   "execution_count": 6,
   "id": "fb02f647",
   "metadata": {},
   "outputs": [
    {
     "name": "stdout",
     "output_type": "stream",
     "text": [
      "                       State    Year  Quarter Transactions  Amount (INR)  \\\n",
      "0  Andaman & Nicobar Islands  2018.0      1.0        6,658   1,46,31,761   \n",
      "1  Andaman & Nicobar Islands  2018.0      2.0       11,340   2,83,38,536   \n",
      "2  Andaman & Nicobar Islands  2018.0      3.0       16,265   5,55,57,471   \n",
      "3  Andaman & Nicobar Islands  2018.0      4.0       23,758   9,05,48,336   \n",
      "4  Andaman & Nicobar Islands  2019.0      1.0       30,486  10,22,99,741   \n",
      "\n",
      "  ATV (INR) Registered Users App Opens  \n",
      "0     2,198            6,740         0  \n",
      "1     2,499            9,405         0  \n",
      "2     3,416           12,149         0  \n",
      "3     3,811           15,222         0  \n",
      "4     3,356           18,596         0  \n"
     ]
    }
   ],
   "source": [
    "print(State_Txn_Users.head())"
   ]
  },
  {
   "cell_type": "code",
   "execution_count": 7,
   "id": "7fb378ad",
   "metadata": {},
   "outputs": [
    {
     "name": "stdout",
     "output_type": "stream",
     "text": [
      "      State  Year  Quarter Transaction Type Transactions Amount (INR)  \\\n",
      "10238   NaN   NaN      NaN              NaN          NaN          NaN   \n",
      "10239   NaN   NaN      NaN              NaN          NaN          NaN   \n",
      "10240   NaN   NaN      NaN              NaN          NaN          NaN   \n",
      "10241   NaN   NaN      NaN              NaN          NaN          NaN   \n",
      "10242   NaN   NaN      NaN              NaN          NaN          NaN   \n",
      "10243   NaN   NaN      NaN              NaN          NaN          NaN   \n",
      "10244   NaN   NaN      NaN              NaN          NaN          NaN   \n",
      "10245   NaN   NaN      NaN              NaN          NaN          NaN   \n",
      "10246   NaN   NaN      NaN              NaN          NaN          NaN   \n",
      "10247   NaN   NaN      NaN              NaN          NaN          NaN   \n",
      "\n",
      "      ATV (INR)  \n",
      "10238       NaN  \n",
      "10239       NaN  \n",
      "10240       NaN  \n",
      "10241       NaN  \n",
      "10242       NaN  \n",
      "10243       NaN  \n",
      "10244       NaN  \n",
      "10245       NaN  \n",
      "10246       NaN  \n",
      "10247       NaN  \n"
     ]
    }
   ],
   "source": [
    "print(State_TxnSplit.tail(10))"
   ]
  },
  {
   "cell_type": "code",
   "execution_count": 8,
   "id": "47b6248f",
   "metadata": {},
   "outputs": [
    {
     "name": "stdout",
     "output_type": "stream",
     "text": [
      "            State    Year  Quarter     Brand Registered Users Percentage  \\\n",
      "5124  Uttarakhand  2018.0      4.0  Micromax           19,828         2%   \n",
      "5125  Uttarakhand  2018.0      4.0    Others         1,22,098        12%   \n",
      "5126  Uttarakhand  2019.0      1.0    Xiaomi         2,88,999        24%   \n",
      "5127  Uttarakhand  2019.0      1.0   Samsung         2,46,222        20%   \n",
      "5128  Uttarakhand  2019.0      1.0      Vivo         1,79,843        15%   \n",
      "5129  Uttarakhand  2019.0      1.0      Oppo         1,61,697        13%   \n",
      "5130  Uttarakhand  2019.0      1.0    Realme           62,779         5%   \n",
      "5131  Uttarakhand  2019.0      1.0     Apple           36,034         3%   \n",
      "5132  Uttarakhand  2019.0      1.0  Motorola           34,677         3%   \n",
      "5133  Uttarakhand  2019.0      1.0    Lenovo           23,534         2%   \n",
      "\n",
      "      Unnamed: 6  \n",
      "5124         NaN  \n",
      "5125         NaN  \n",
      "5126         NaN  \n",
      "5127         NaN  \n",
      "5128         NaN  \n",
      "5129         NaN  \n",
      "5130         NaN  \n",
      "5131         NaN  \n",
      "5132         NaN  \n",
      "5133         NaN  \n"
     ]
    }
   ],
   "source": [
    "mid_index = len(State_DeviceData) // 2\n",
    "print(State_DeviceData.iloc[mid_index: mid_index+10])"
   ]
  },
  {
   "cell_type": "code",
   "execution_count": 9,
   "id": "1eaa49f9",
   "metadata": {},
   "outputs": [
    {
     "name": "stdout",
     "output_type": "stream",
     "text": [
      "                       State  Year  Quarter                  District  Code  \\\n",
      "0  Andaman & Nicobar Islands  2018        1                  Nicobars  AN01   \n",
      "1  Andaman & Nicobar Islands  2018        1  North And Middle Andaman  AN02   \n",
      "2  Andaman & Nicobar Islands  2018        1             South Andaman  AN03   \n",
      "3  Andaman & Nicobar Islands  2018        2                  Nicobars  AN01   \n",
      "4  Andaman & Nicobar Islands  2018        2  North And Middle Andaman  AN02   \n",
      "5  Andaman & Nicobar Islands  2018        2             South Andaman  AN03   \n",
      "6  Andaman & Nicobar Islands  2018        3                  Nicobars  AN01   \n",
      "7  Andaman & Nicobar Islands  2018        3  North And Middle Andaman  AN02   \n",
      "8  Andaman & Nicobar Islands  2018        3             South Andaman  AN03   \n",
      "9  Andaman & Nicobar Islands  2018        4                  Nicobars  AN01   \n",
      "\n",
      "  Transactions Amount (INR) ATV (INR) Registered Users App Opens  \n",
      "0          528    11,39,849     2,159              262         0  \n",
      "1          442     9,31,663     2,108              632         0  \n",
      "2        5,688  1,25,60,249     2,208            5,846         0  \n",
      "3        1,120    30,72,437     2,743              351         0  \n",
      "4          825    13,17,863     1,597              911         0  \n",
      "5        9,395  2,39,48,236     2,549            8,143         0  \n",
      "6        1,471    63,87,829     4,343              467         0  \n",
      "7        1,283    49,01,530     3,820            1,208         0  \n",
      "8       13,511  4,42,68,112     3,276           10,474         0  \n",
      "9        1,485    71,80,859     4,836              536         0  \n",
      "             State  Year  Quarter                    District  Code  \\\n",
      "10238  West Bengal  2021        2                 Murshidabad  WB14   \n",
      "10239  West Bengal  2021        2                       Nadia  WB15   \n",
      "10240  West Bengal  2021        2  North Twenty Four Parganas  WB16   \n",
      "10241  West Bengal  2021        2           Paschim Bardhaman  WB17   \n",
      "10242  West Bengal  2021        2           Paschim Medinipur  WB18   \n",
      "10243  West Bengal  2021        2             Purba Bardhaman  WB19   \n",
      "10244  West Bengal  2021        2             Purba Medinipur  WB20   \n",
      "10245  West Bengal  2021        2                     Purulia  WB21   \n",
      "10246  West Bengal  2021        2  South Twenty Four Parganas  WB22   \n",
      "10247  West Bengal  2021        2              Uttar Dinajpur  WB23   \n",
      "\n",
      "      Transactions     Amount (INR) ATV (INR) Registered Users    App Opens  \n",
      "10238    86,02,251  19,99,69,35,608     2,325        12,48,602  1,65,30,655  \n",
      "10239    55,24,174  11,22,75,82,723     2,032         9,55,428  1,36,65,885  \n",
      "10240  1,72,58,291  30,41,48,21,773     1,762        26,60,664  3,78,99,453  \n",
      "10241    48,93,774   8,73,12,62,894     1,784         7,89,026  1,05,45,670  \n",
      "10242    50,51,834  10,30,35,13,379     2,040         8,56,640  1,62,01,033  \n",
      "10243    39,20,729   7,57,25,02,416     1,931         7,87,970  1,21,28,849  \n",
      "10244    64,18,522  15,15,50,67,721     2,361         9,46,277  1,54,91,958  \n",
      "10245    18,95,981   2,79,09,96,372     1,472         4,35,131    88,43,358  \n",
      "10246    66,61,813  13,39,85,29,484     2,011        12,86,588  1,93,44,293  \n",
      "10247    22,53,385   5,56,42,20,751     2,469         3,92,388    81,84,990  \n"
     ]
    }
   ],
   "source": [
    "print(District_Txn_Users.head(10))\n",
    "print(District_Txn_Users.tail(10))"
   ]
  },
  {
   "cell_type": "code",
   "execution_count": 10,
   "id": "696772ad",
   "metadata": {},
   "outputs": [
    {
     "name": "stdout",
     "output_type": "stream",
     "text": [
      "                 State       District   Headquarters Population Area (sq km)  \\\n",
      "0       Andhra Pradesh      Anantapur      Anantapur  40,83,315       19,130   \n",
      "10      Andhra Pradesh  Visakhapatnam  Visakhapatnam  42,88,113       11,161   \n",
      "20   Arunachal Pradesh      Lepa Rada          Basar        NaN          NaN   \n",
      "30   Arunachal Pradesh          Siang         Pangin     31,920        2,919   \n",
      "40               Assam        Barpeta        Barpeta  16,93,622        3,245   \n",
      "..                 ...            ...            ...        ...          ...   \n",
      "700         Chandigarh     Chandigarh     Chandigarh  10,55,450          114   \n",
      "710    Jammu & Kashmir          Jammu          Jammu  15,26,406        3,097   \n",
      "720    Jammu & Kashmir          Samba          Samba   3,18,611          913   \n",
      "730              Delhi    North Delhi   Sadar Bazaar   8,87,978           59   \n",
      "740         Puducherry     Puducherry    Pondicherry   9,50,289          293   \n",
      "\n",
      "    Density  Code Alternate Name  \n",
      "0       213  AP01      Anantapur  \n",
      "10      384  AP10  Visakhapatnam  \n",
      "20      NaN  AR08      Lepa Rada  \n",
      "30       11  AR18          Siang  \n",
      "40      520  AS03        Barpeta  \n",
      "..      ...   ...            ...  \n",
      "700   9,258  CH01     Chandigarh  \n",
      "710     596  JK07          Jammu  \n",
      "720     318  JK17          Samba  \n",
      "730  14,557  DL04          North  \n",
      "740   3,232  PY03     Puducherry  \n",
      "\n",
      "[75 rows x 8 columns]\n"
     ]
    }
   ],
   "source": [
    "print(District_Demographics.iloc[::10])"
   ]
  },
  {
   "cell_type": "markdown",
   "id": "bdb1f568",
   "metadata": {},
   "source": [
    "1.2 Display basic statistics and data type for each dataset"
   ]
  },
  {
   "cell_type": "code",
   "execution_count": 11,
   "id": "754617b4",
   "metadata": {},
   "outputs": [
    {
     "name": "stdout",
     "output_type": "stream",
     "text": [
      "<class 'pandas.core.frame.DataFrame'>\n",
      "RangeIndex: 10248 entries, 0 to 10247\n",
      "Data columns (total 8 columns):\n",
      " #   Column            Non-Null Count  Dtype  \n",
      "---  ------            --------------  -----  \n",
      " 0   State             504 non-null    object \n",
      " 1   Year              504 non-null    float64\n",
      " 2   Quarter           504 non-null    float64\n",
      " 3   Transactions      504 non-null    object \n",
      " 4   Amount (INR)      503 non-null    object \n",
      " 5   ATV (INR)         504 non-null    object \n",
      " 6   Registered Users  504 non-null    object \n",
      " 7   App Opens         504 non-null    object \n",
      "dtypes: float64(2), object(6)\n",
      "memory usage: 640.6+ KB\n"
     ]
    }
   ],
   "source": [
    "State_Txn_Users.info()\n"
   ]
  },
  {
   "cell_type": "code",
   "execution_count": 12,
   "id": "c786fe79",
   "metadata": {},
   "outputs": [],
   "source": [
    "numeric_cols_1 = ['Transactions', 'Amount (INR)', 'ATV (INR)', 'Registered Users', 'App Opens']\n",
    "\n",
    "State_Txn_Users_numeric = State_Txn_Users[numeric_cols_1].apply(lambda x: pd.to_numeric(x.str.replace(',', ''), errors='coerce'))"
   ]
  },
  {
   "cell_type": "code",
   "execution_count": 13,
   "id": "80762b31",
   "metadata": {},
   "outputs": [
    {
     "data": {
      "application/vnd.microsoft.datawrangler.viewer.v0+json": {
       "columns": [
        {
         "name": "index",
         "rawType": "object",
         "type": "string"
        },
        {
         "name": "0",
         "rawType": "float64",
         "type": "float"
        }
       ],
       "ref": "d3b5e051-776f-46b1-aaae-48e5e1187454",
       "rows": [
        [
         "Transactions",
         "40740000.583333336"
        ],
        [
         "Amount (INR)",
         "70833320601.5984"
        ],
        [
         "ATV (INR)",
         "1993.4583333333333"
        ],
        [
         "Registered Users",
         "4777500.886904762"
        ],
        [
         "App Opens",
         "97744705.2281746"
        ]
       ],
       "shape": {
        "columns": 1,
        "rows": 5
       }
      },
      "text/plain": [
       "Transactions        4.074000e+07\n",
       "Amount (INR)        7.083332e+10\n",
       "ATV (INR)           1.993458e+03\n",
       "Registered Users    4.777501e+06\n",
       "App Opens           9.774471e+07\n",
       "dtype: float64"
      ]
     },
     "execution_count": 13,
     "metadata": {},
     "output_type": "execute_result"
    }
   ],
   "source": [
    "State_Txn_Users_numeric.mean()"
   ]
  },
  {
   "cell_type": "code",
   "execution_count": 14,
   "id": "5be352b6",
   "metadata": {},
   "outputs": [
    {
     "data": {
      "application/vnd.microsoft.datawrangler.viewer.v0+json": {
       "columns": [
        {
         "name": "index",
         "rawType": "object",
         "type": "string"
        },
        {
         "name": "0",
         "rawType": "float64",
         "type": "float"
        }
       ],
       "ref": "3d5fee69-a579-44f7-a47e-60d6021f3ea7",
       "rows": [
        [
         "Transactions",
         "778.0"
        ],
        [
         "Amount (INR)",
         "1928611.0"
        ],
        [
         "ATV (INR)",
         "1516.0"
        ],
        [
         "Registered Users",
         "501.0"
        ],
        [
         "App Opens",
         "0.0"
        ]
       ],
       "shape": {
        "columns": 1,
        "rows": 5
       }
      },
      "text/plain": [
       "Transactions            778.0\n",
       "Amount (INR)        1928611.0\n",
       "ATV (INR)              1516.0\n",
       "Registered Users        501.0\n",
       "App Opens                 0.0\n",
       "Name: 0, dtype: float64"
      ]
     },
     "execution_count": 14,
     "metadata": {},
     "output_type": "execute_result"
    }
   ],
   "source": [
    "State_Txn_Users_numeric.mode().iloc[0]"
   ]
  },
  {
   "cell_type": "code",
   "execution_count": 15,
   "id": "b71b3dc3",
   "metadata": {},
   "outputs": [
    {
     "data": {
      "application/vnd.microsoft.datawrangler.viewer.v0+json": {
       "columns": [
        {
         "name": "index",
         "rawType": "object",
         "type": "string"
        },
        {
         "name": "0",
         "rawType": "float64",
         "type": "float"
        }
       ],
       "ref": "c40add66-3f94-43ba-a519-db7c54dea719",
       "rows": [
        [
         "Transactions",
         "6217487.0"
        ],
        [
         "Amount (INR)",
         "10516054014.0"
        ],
        [
         "ATV (INR)",
         "1861.5"
        ],
        [
         "Registered Users",
         "1747914.0"
        ],
        [
         "App Opens",
         "2930573.5"
        ]
       ],
       "shape": {
        "columns": 1,
        "rows": 5
       }
      },
      "text/plain": [
       "Transactions        6.217487e+06\n",
       "Amount (INR)        1.051605e+10\n",
       "ATV (INR)           1.861500e+03\n",
       "Registered Users    1.747914e+06\n",
       "App Opens           2.930574e+06\n",
       "dtype: float64"
      ]
     },
     "execution_count": 15,
     "metadata": {},
     "output_type": "execute_result"
    }
   ],
   "source": [
    "State_Txn_Users_numeric.median()"
   ]
  },
  {
   "cell_type": "code",
   "execution_count": 16,
   "id": "def84a38",
   "metadata": {},
   "outputs": [
    {
     "data": {
      "application/vnd.microsoft.datawrangler.viewer.v0+json": {
       "columns": [
        {
         "name": "index",
         "rawType": "object",
         "type": "string"
        },
        {
         "name": "0",
         "rawType": "float64",
         "type": "float"
        }
       ],
       "ref": "3ecec51d-7ea4-428d-a2e8-92d79aa9cd51",
       "rows": [
        [
         "Transactions",
         "82287143.48557882"
        ],
        [
         "Amount (INR)",
         "144090233156.007"
        ],
        [
         "ATV (INR)",
         "607.4790870497382"
        ],
        [
         "Registered Users",
         "6644495.720724616"
        ],
        [
         "App Opens",
         "204237579.8014673"
        ]
       ],
       "shape": {
        "columns": 1,
        "rows": 5
       }
      },
      "text/plain": [
       "Transactions        8.228714e+07\n",
       "Amount (INR)        1.440902e+11\n",
       "ATV (INR)           6.074791e+02\n",
       "Registered Users    6.644496e+06\n",
       "App Opens           2.042376e+08\n",
       "dtype: float64"
      ]
     },
     "execution_count": 16,
     "metadata": {},
     "output_type": "execute_result"
    }
   ],
   "source": [
    "State_Txn_Users_numeric.std()"
   ]
  },
  {
   "cell_type": "code",
   "execution_count": 17,
   "id": "ce6f804f",
   "metadata": {},
   "outputs": [
    {
     "data": {
      "application/vnd.microsoft.datawrangler.viewer.v0+json": {
       "columns": [
        {
         "name": "index",
         "rawType": "object",
         "type": "string"
        },
        {
         "name": "0",
         "rawType": "float64",
         "type": "float"
        }
       ],
       "ref": "3952d6e4-7ab0-46dc-9344-a09fb744d0f4",
       "rows": [
        [
         "Transactions",
         "20532960294.0"
        ],
        [
         "Amount (INR)",
         "35629160262604.0"
        ],
        [
         "ATV (INR)",
         "1004703.0"
        ],
        [
         "Registered Users",
         "2407860447.0"
        ],
        [
         "App Opens",
         "49263331435.0"
        ]
       ],
       "shape": {
        "columns": 1,
        "rows": 5
       }
      },
      "text/plain": [
       "Transactions        2.053296e+10\n",
       "Amount (INR)        3.562916e+13\n",
       "ATV (INR)           1.004703e+06\n",
       "Registered Users    2.407860e+09\n",
       "App Opens           4.926333e+10\n",
       "dtype: float64"
      ]
     },
     "execution_count": 17,
     "metadata": {},
     "output_type": "execute_result"
    }
   ],
   "source": [
    "State_Txn_Users_numeric.sum()"
   ]
  },
  {
   "cell_type": "code",
   "execution_count": 18,
   "id": "5c592890",
   "metadata": {},
   "outputs": [
    {
     "name": "stdout",
     "output_type": "stream",
     "text": [
      "<class 'pandas.core.frame.DataFrame'>\n",
      "RangeIndex: 10248 entries, 0 to 10247\n",
      "Data columns (total 7 columns):\n",
      " #   Column            Non-Null Count  Dtype  \n",
      "---  ------            --------------  -----  \n",
      " 0   State             2514 non-null   object \n",
      " 1   Year              2514 non-null   float64\n",
      " 2   Quarter           2514 non-null   float64\n",
      " 3   Transaction Type  2514 non-null   object \n",
      " 4   Transactions      2514 non-null   object \n",
      " 5   Amount (INR)      2514 non-null   object \n",
      " 6   ATV (INR)         2514 non-null   object \n",
      "dtypes: float64(2), object(5)\n",
      "memory usage: 560.6+ KB\n"
     ]
    }
   ],
   "source": [
    "State_TxnSplit.info()"
   ]
  },
  {
   "cell_type": "code",
   "execution_count": 19,
   "id": "5d9d13b8",
   "metadata": {},
   "outputs": [],
   "source": [
    "numeric_cols_2 = ['Transactions', 'Amount (INR)', 'ATV (INR)']\n",
    "\n",
    "State_TxnSplit_numeric = State_TxnSplit[numeric_cols_2].apply(lambda x: pd.to_numeric(x.str.replace(',', ''), errors='coerce'))"
   ]
  },
  {
   "cell_type": "code",
   "execution_count": 20,
   "id": "ff263f48",
   "metadata": {},
   "outputs": [
    {
     "data": {
      "application/vnd.microsoft.datawrangler.viewer.v0+json": {
       "columns": [
        {
         "name": "index",
         "rawType": "object",
         "type": "string"
        },
        {
         "name": "0",
         "rawType": "float64",
         "type": "float"
        }
       ],
       "ref": "fcaffb77-c66c-429e-a2e6-dc1296e7f508",
       "rows": [
        [
         "Transactions",
         "8167446.417661098"
        ],
        [
         "Amount (INR)",
         "14439779209.542164"
        ],
        [
         "ATV (INR)",
         "1349.9403341288782"
        ]
       ],
       "shape": {
        "columns": 1,
        "rows": 3
       }
      },
      "text/plain": [
       "Transactions    8.167446e+06\n",
       "Amount (INR)    1.443978e+10\n",
       "ATV (INR)       1.349940e+03\n",
       "dtype: float64"
      ]
     },
     "execution_count": 20,
     "metadata": {},
     "output_type": "execute_result"
    }
   ],
   "source": [
    "State_TxnSplit_numeric.mean()"
   ]
  },
  {
   "cell_type": "code",
   "execution_count": 21,
   "id": "df60d060",
   "metadata": {},
   "outputs": [
    {
     "data": {
      "application/vnd.microsoft.datawrangler.viewer.v0+json": {
       "columns": [
        {
         "name": "index",
         "rawType": "object",
         "type": "string"
        },
        {
         "name": "0",
         "rawType": "float64",
         "type": "float"
        }
       ],
       "ref": "1667ea06-57b6-4200-9308-0161adcb8681",
       "rows": [
        [
         "Transactions",
         "6.0"
        ],
        [
         "Amount (INR)",
         "34.0"
        ],
        [
         "ATV (INR)",
         "183.0"
        ]
       ],
       "shape": {
        "columns": 1,
        "rows": 3
       }
      },
      "text/plain": [
       "Transactions      6.0\n",
       "Amount (INR)     34.0\n",
       "ATV (INR)       183.0\n",
       "Name: 0, dtype: float64"
      ]
     },
     "execution_count": 21,
     "metadata": {},
     "output_type": "execute_result"
    }
   ],
   "source": [
    "State_TxnSplit_numeric.mode().iloc[0]"
   ]
  },
  {
   "cell_type": "code",
   "execution_count": 22,
   "id": "9a8cfc80",
   "metadata": {},
   "outputs": [
    {
     "data": {
      "application/vnd.microsoft.datawrangler.viewer.v0+json": {
       "columns": [
        {
         "name": "index",
         "rawType": "object",
         "type": "string"
        },
        {
         "name": "0",
         "rawType": "float64",
         "type": "float"
        }
       ],
       "ref": "13170b45-3da8-4ab7-b5d7-73cb384bf6d5",
       "rows": [
        [
         "Transactions",
         "268798.0"
        ],
        [
         "Amount (INR)",
         "190118948.5"
        ],
        [
         "ATV (INR)",
         "721.0"
        ]
       ],
       "shape": {
        "columns": 1,
        "rows": 3
       }
      },
      "text/plain": [
       "Transactions       268798.0\n",
       "Amount (INR)    190118948.5\n",
       "ATV (INR)             721.0\n",
       "dtype: float64"
      ]
     },
     "execution_count": 22,
     "metadata": {},
     "output_type": "execute_result"
    }
   ],
   "source": [
    "State_TxnSplit_numeric.median()"
   ]
  },
  {
   "cell_type": "code",
   "execution_count": 23,
   "id": "a665eba7",
   "metadata": {},
   "outputs": [
    {
     "data": {
      "application/vnd.microsoft.datawrangler.viewer.v0+json": {
       "columns": [
        {
         "name": "index",
         "rawType": "object",
         "type": "string"
        },
        {
         "name": "0",
         "rawType": "float64",
         "type": "float"
        }
       ],
       "ref": "cb592da0-0b8d-4924-9700-8103b1025555",
       "rows": [
        [
         "Transactions",
         "24236453.681352243"
        ],
        [
         "Amount (INR)",
         "59950544781.05142"
        ],
        [
         "ATV (INR)",
         "1534.8751027360024"
        ]
       ],
       "shape": {
        "columns": 1,
        "rows": 3
       }
      },
      "text/plain": [
       "Transactions    2.423645e+07\n",
       "Amount (INR)    5.995054e+10\n",
       "ATV (INR)       1.534875e+03\n",
       "dtype: float64"
      ]
     },
     "execution_count": 23,
     "metadata": {},
     "output_type": "execute_result"
    }
   ],
   "source": [
    "State_TxnSplit_numeric.std()"
   ]
  },
  {
   "cell_type": "code",
   "execution_count": 24,
   "id": "d3bb3459",
   "metadata": {},
   "outputs": [
    {
     "data": {
      "application/vnd.microsoft.datawrangler.viewer.v0+json": {
       "columns": [
        {
         "name": "index",
         "rawType": "object",
         "type": "string"
        },
        {
         "name": "0",
         "rawType": "float64",
         "type": "float"
        }
       ],
       "ref": "80b98d86-4f33-4203-82e2-7f1797764e42",
       "rows": [
        [
         "Transactions",
         "20532960294.0"
        ],
        [
         "Amount (INR)",
         "36301604932789.0"
        ],
        [
         "ATV (INR)",
         "3393750.0"
        ]
       ],
       "shape": {
        "columns": 1,
        "rows": 3
       }
      },
      "text/plain": [
       "Transactions    2.053296e+10\n",
       "Amount (INR)    3.630160e+13\n",
       "ATV (INR)       3.393750e+06\n",
       "dtype: float64"
      ]
     },
     "execution_count": 24,
     "metadata": {},
     "output_type": "execute_result"
    }
   ],
   "source": [
    "State_TxnSplit_numeric.sum()"
   ]
  },
  {
   "cell_type": "code",
   "execution_count": 25,
   "id": "3a152054",
   "metadata": {},
   "outputs": [
    {
     "name": "stdout",
     "output_type": "stream",
     "text": [
      "<class 'pandas.core.frame.DataFrame'>\n",
      "RangeIndex: 10248 entries, 0 to 10247\n",
      "Data columns (total 7 columns):\n",
      " #   Column            Non-Null Count  Dtype  \n",
      "---  ------            --------------  -----  \n",
      " 0   State             5544 non-null   object \n",
      " 1   Year              5544 non-null   float64\n",
      " 2   Quarter           5544 non-null   float64\n",
      " 3   Brand             5544 non-null   object \n",
      " 4   Registered Users  5544 non-null   object \n",
      " 5   Percentage        5544 non-null   object \n",
      " 6   Unnamed: 6        0 non-null      float64\n",
      "dtypes: float64(3), object(4)\n",
      "memory usage: 560.6+ KB\n"
     ]
    }
   ],
   "source": [
    "State_DeviceData.info()"
   ]
  },
  {
   "cell_type": "code",
   "execution_count": 26,
   "id": "105b1a11",
   "metadata": {},
   "outputs": [],
   "source": [
    "numeric_cols_3 = ['Registered Users', 'Percentage']\n",
    "\n",
    "State_DeviceData_numeric = State_DeviceData[numeric_cols_3].apply(lambda x: pd.to_numeric(x.str.replace(',', ''), errors='coerce'))"
   ]
  },
  {
   "cell_type": "code",
   "execution_count": 27,
   "id": "8570eb71",
   "metadata": {},
   "outputs": [
    {
     "data": {
      "application/vnd.microsoft.datawrangler.viewer.v0+json": {
       "columns": [
        {
         "name": "index",
         "rawType": "object",
         "type": "string"
        },
        {
         "name": "0",
         "rawType": "float64",
         "type": "float"
        }
       ],
       "ref": "19570ba3-c828-4c5c-9ee7-d0cf0c604697",
       "rows": [
        [
         "Registered Users",
         "434318.26244588743"
        ],
        [
         "Percentage",
         null
        ]
       ],
       "shape": {
        "columns": 1,
        "rows": 2
       }
      },
      "text/plain": [
       "Registered Users    434318.262446\n",
       "Percentage                    NaN\n",
       "dtype: float64"
      ]
     },
     "execution_count": 27,
     "metadata": {},
     "output_type": "execute_result"
    }
   ],
   "source": [
    "State_DeviceData_numeric.mean()"
   ]
  },
  {
   "cell_type": "code",
   "execution_count": 28,
   "id": "6e148713",
   "metadata": {},
   "outputs": [
    {
     "data": {
      "application/vnd.microsoft.datawrangler.viewer.v0+json": {
       "columns": [
        {
         "name": "index",
         "rawType": "object",
         "type": "string"
        },
        {
         "name": "0",
         "rawType": "float64",
         "type": "float"
        }
       ],
       "ref": "c683760e-e0f4-4aba-aba3-7eb448c17e5e",
       "rows": [
        [
         "Registered Users",
         "24.0"
        ],
        [
         "Percentage",
         null
        ]
       ],
       "shape": {
        "columns": 1,
        "rows": 2
       }
      },
      "text/plain": [
       "Registered Users    24.0\n",
       "Percentage           NaN\n",
       "Name: 0, dtype: float64"
      ]
     },
     "execution_count": 28,
     "metadata": {},
     "output_type": "execute_result"
    }
   ],
   "source": [
    "State_DeviceData_numeric.mode().iloc[0]"
   ]
  },
  {
   "cell_type": "code",
   "execution_count": 29,
   "id": "ae1f406f",
   "metadata": {},
   "outputs": [
    {
     "data": {
      "application/vnd.microsoft.datawrangler.viewer.v0+json": {
       "columns": [
        {
         "name": "index",
         "rawType": "object",
         "type": "string"
        },
        {
         "name": "0",
         "rawType": "float64",
         "type": "float"
        }
       ],
       "ref": "087aa8d3-96f0-4f35-b2b2-7fb63f19931e",
       "rows": [
        [
         "Registered Users",
         "74422.5"
        ],
        [
         "Percentage",
         null
        ]
       ],
       "shape": {
        "columns": 1,
        "rows": 2
       }
      },
      "text/plain": [
       "Registered Users    74422.5\n",
       "Percentage              NaN\n",
       "dtype: float64"
      ]
     },
     "execution_count": 29,
     "metadata": {},
     "output_type": "execute_result"
    }
   ],
   "source": [
    "State_DeviceData_numeric.median()"
   ]
  },
  {
   "cell_type": "code",
   "execution_count": 30,
   "id": "1a2e1832",
   "metadata": {},
   "outputs": [
    {
     "data": {
      "application/vnd.microsoft.datawrangler.viewer.v0+json": {
       "columns": [
        {
         "name": "index",
         "rawType": "object",
         "type": "string"
        },
        {
         "name": "0",
         "rawType": "float64",
         "type": "float"
        }
       ],
       "ref": "4e7572c1-b90d-4d49-b1c4-ea669d0d2d3b",
       "rows": [
        [
         "Registered Users",
         "905606.9497942394"
        ],
        [
         "Percentage",
         null
        ]
       ],
       "shape": {
        "columns": 1,
        "rows": 2
       }
      },
      "text/plain": [
       "Registered Users    905606.949794\n",
       "Percentage                    NaN\n",
       "dtype: float64"
      ]
     },
     "execution_count": 30,
     "metadata": {},
     "output_type": "execute_result"
    }
   ],
   "source": [
    "State_DeviceData_numeric.std()"
   ]
  },
  {
   "cell_type": "code",
   "execution_count": 31,
   "id": "484a8aaa",
   "metadata": {},
   "outputs": [
    {
     "data": {
      "application/vnd.microsoft.datawrangler.viewer.v0+json": {
       "columns": [
        {
         "name": "index",
         "rawType": "object",
         "type": "string"
        },
        {
         "name": "0",
         "rawType": "float64",
         "type": "float"
        }
       ],
       "ref": "d77d20fc-8f61-4a2e-ab27-52b2b5949793",
       "rows": [
        [
         "Registered Users",
         "2407860447.0"
        ],
        [
         "Percentage",
         "0.0"
        ]
       ],
       "shape": {
        "columns": 1,
        "rows": 2
       }
      },
      "text/plain": [
       "Registered Users    2.407860e+09\n",
       "Percentage          0.000000e+00\n",
       "dtype: float64"
      ]
     },
     "execution_count": 31,
     "metadata": {},
     "output_type": "execute_result"
    }
   ],
   "source": [
    "State_DeviceData_numeric.sum()"
   ]
  },
  {
   "cell_type": "code",
   "execution_count": 32,
   "id": "ca49144c",
   "metadata": {},
   "outputs": [
    {
     "name": "stdout",
     "output_type": "stream",
     "text": [
      "<class 'pandas.core.frame.DataFrame'>\n",
      "RangeIndex: 10248 entries, 0 to 10247\n",
      "Data columns (total 10 columns):\n",
      " #   Column            Non-Null Count  Dtype \n",
      "---  ------            --------------  ----- \n",
      " 0   State             10248 non-null  object\n",
      " 1   Year              10248 non-null  int64 \n",
      " 2   Quarter           10248 non-null  int64 \n",
      " 3   District          10248 non-null  object\n",
      " 4   Code              10220 non-null  object\n",
      " 5   Transactions      10248 non-null  object\n",
      " 6   Amount (INR)      10248 non-null  object\n",
      " 7   ATV (INR)         10248 non-null  object\n",
      " 8   Registered Users  10248 non-null  object\n",
      " 9   App Opens         10248 non-null  object\n",
      "dtypes: int64(2), object(8)\n",
      "memory usage: 800.8+ KB\n"
     ]
    }
   ],
   "source": [
    "District_Txn_Users.info()"
   ]
  },
  {
   "cell_type": "code",
   "execution_count": 33,
   "id": "4ffe6cd6",
   "metadata": {},
   "outputs": [],
   "source": [
    "numeric_cols_4 = ['Transactions', 'Amount (INR)', 'ATV (INR)', 'Registered Users', 'App Opens']\n",
    "\n",
    "District_Txn_Users_numeric = District_Txn_Users[numeric_cols_4].apply(lambda x: pd.to_numeric(x.str.replace(',', ''), errors='coerce'))"
   ]
  },
  {
   "cell_type": "code",
   "execution_count": 34,
   "id": "ac22108f",
   "metadata": {},
   "outputs": [
    {
     "data": {
      "application/vnd.microsoft.datawrangler.viewer.v0+json": {
       "columns": [
        {
         "name": "index",
         "rawType": "object",
         "type": "string"
        },
        {
         "name": "0",
         "rawType": "float64",
         "type": "float"
        }
       ],
       "ref": "ba0f39b5-2e1d-403a-aa3a-e4f258fce393",
       "rows": [
        [
         "Transactions",
         "2003606.5860655739"
        ],
        [
         "Amount (INR)",
         "3542311176.1078258"
        ],
        [
         "ATV (INR)",
         "1909.7949043342444"
        ],
        [
         "Registered Users",
         "234959.0600117096"
        ],
        [
         "App Opens",
         "4807116.650565964"
        ]
       ],
       "shape": {
        "columns": 1,
        "rows": 5
       }
      },
      "text/plain": [
       "Transactions        2.003607e+06\n",
       "Amount (INR)        3.542311e+09\n",
       "ATV (INR)           1.909795e+03\n",
       "Registered Users    2.349591e+05\n",
       "App Opens           4.807117e+06\n",
       "dtype: float64"
      ]
     },
     "execution_count": 34,
     "metadata": {},
     "output_type": "execute_result"
    }
   ],
   "source": [
    "District_Txn_Users_numeric.mean()"
   ]
  },
  {
   "cell_type": "code",
   "execution_count": 35,
   "id": "e4bb21e4",
   "metadata": {},
   "outputs": [
    {
     "data": {
      "application/vnd.microsoft.datawrangler.viewer.v0+json": {
       "columns": [
        {
         "name": "index",
         "rawType": "object",
         "type": "string"
        },
        {
         "name": "0",
         "rawType": "float64",
         "type": "float"
        }
       ],
       "ref": "1510ff70-a00e-4b50-a66f-7ba74700451c",
       "rows": [
        [
         "Transactions",
         "0.0"
        ],
        [
         "Amount (INR)",
         "0.0"
        ],
        [
         "ATV (INR)",
         "1788.0"
        ],
        [
         "Registered Users",
         "144.0"
        ],
        [
         "App Opens",
         "0.0"
        ]
       ],
       "shape": {
        "columns": 1,
        "rows": 5
       }
      },
      "text/plain": [
       "Transactions           0.0\n",
       "Amount (INR)           0.0\n",
       "ATV (INR)           1788.0\n",
       "Registered Users     144.0\n",
       "App Opens              0.0\n",
       "Name: 0, dtype: float64"
      ]
     },
     "execution_count": 35,
     "metadata": {},
     "output_type": "execute_result"
    }
   ],
   "source": [
    "District_Txn_Users_numeric.mode().iloc[0]"
   ]
  },
  {
   "cell_type": "code",
   "execution_count": 36,
   "id": "ba65cb30",
   "metadata": {},
   "outputs": [
    {
     "data": {
      "application/vnd.microsoft.datawrangler.viewer.v0+json": {
       "columns": [
        {
         "name": "index",
         "rawType": "object",
         "type": "string"
        },
        {
         "name": "0",
         "rawType": "float64",
         "type": "float"
        }
       ],
       "ref": "ce231163-5ad2-4dc1-995d-69fd16476d38",
       "rows": [
        [
         "Transactions",
         "376306.5"
        ],
        [
         "Amount (INR)",
         "678456240.5"
        ],
        [
         "ATV (INR)",
         "1863.0"
        ],
        [
         "Registered Users",
         "106764.0"
        ],
        [
         "App Opens",
         "640302.5"
        ]
       ],
       "shape": {
        "columns": 1,
        "rows": 5
       }
      },
      "text/plain": [
       "Transactions           376306.5\n",
       "Amount (INR)        678456240.5\n",
       "ATV (INR)                1863.0\n",
       "Registered Users       106764.0\n",
       "App Opens              640302.5\n",
       "dtype: float64"
      ]
     },
     "execution_count": 36,
     "metadata": {},
     "output_type": "execute_result"
    }
   ],
   "source": [
    "District_Txn_Users_numeric.median()"
   ]
  },
  {
   "cell_type": "code",
   "execution_count": 37,
   "id": "21035ab6",
   "metadata": {},
   "outputs": [
    {
     "data": {
      "application/vnd.microsoft.datawrangler.viewer.v0+json": {
       "columns": [
        {
         "name": "index",
         "rawType": "object",
         "type": "string"
        },
        {
         "name": "0",
         "rawType": "float64",
         "type": "float"
        }
       ],
       "ref": "7a6519f2-b838-493c-88a7-69e23c52a274",
       "rows": [
        [
         "Transactions",
         "9613466.292187948"
        ],
        [
         "Amount (INR)",
         "14731537479.502144"
        ],
        [
         "ATV (INR)",
         "600.9422982417448"
        ],
        [
         "Registered Users",
         "460597.8275716365"
        ],
        [
         "App Opens",
         "15625414.797370734"
        ]
       ],
       "shape": {
        "columns": 1,
        "rows": 5
       }
      },
      "text/plain": [
       "Transactions        9.613466e+06\n",
       "Amount (INR)        1.473154e+10\n",
       "ATV (INR)           6.009423e+02\n",
       "Registered Users    4.605978e+05\n",
       "App Opens           1.562541e+07\n",
       "dtype: float64"
      ]
     },
     "execution_count": 37,
     "metadata": {},
     "output_type": "execute_result"
    }
   ],
   "source": [
    "District_Txn_Users_numeric.std()"
   ]
  },
  {
   "cell_type": "code",
   "execution_count": 38,
   "id": "881075c6",
   "metadata": {},
   "outputs": [
    {
     "data": {
      "application/vnd.microsoft.datawrangler.viewer.v0+json": {
       "columns": [
        {
         "name": "index",
         "rawType": "object",
         "type": "string"
        },
        {
         "name": "0",
         "rawType": "float64",
         "type": "float"
        }
       ],
       "ref": "bdff0656-80d2-4bf0-b50c-d741aa87633f",
       "rows": [
        [
         "Transactions",
         "20532960294.0"
        ],
        [
         "Amount (INR)",
         "36301604932753.0"
        ],
        [
         "ATV (INR)",
         "19563939.0"
        ],
        [
         "Registered Users",
         "2407860447.0"
        ],
        [
         "App Opens",
         "49263331435.0"
        ]
       ],
       "shape": {
        "columns": 1,
        "rows": 5
       }
      },
      "text/plain": [
       "Transactions        2.053296e+10\n",
       "Amount (INR)        3.630160e+13\n",
       "ATV (INR)           1.956394e+07\n",
       "Registered Users    2.407860e+09\n",
       "App Opens           4.926333e+10\n",
       "dtype: float64"
      ]
     },
     "execution_count": 38,
     "metadata": {},
     "output_type": "execute_result"
    }
   ],
   "source": [
    "District_Txn_Users_numeric.sum()"
   ]
  },
  {
   "cell_type": "code",
   "execution_count": 39,
   "id": "cf7025dc",
   "metadata": {},
   "outputs": [
    {
     "name": "stdout",
     "output_type": "stream",
     "text": [
      "<class 'pandas.core.frame.DataFrame'>\n",
      "RangeIndex: 742 entries, 0 to 741\n",
      "Data columns (total 8 columns):\n",
      " #   Column          Non-Null Count  Dtype \n",
      "---  ------          --------------  ----- \n",
      " 0   State           742 non-null    object\n",
      " 1   District        742 non-null    object\n",
      " 2   Headquarters    742 non-null    object\n",
      " 3   Population      728 non-null    object\n",
      " 4   Area (sq km)    727 non-null    object\n",
      " 5   Density         724 non-null    object\n",
      " 6   Code            742 non-null    object\n",
      " 7   Alternate Name  742 non-null    object\n",
      "dtypes: object(8)\n",
      "memory usage: 46.5+ KB\n"
     ]
    }
   ],
   "source": [
    "District_Demographics.info()"
   ]
  },
  {
   "cell_type": "code",
   "execution_count": 40,
   "id": "09fb61d3",
   "metadata": {},
   "outputs": [],
   "source": [
    "numeric_cols_5 = ['Population', 'Area (sq km)', 'Density']\n",
    "\n",
    "District_Demographics_numeric = District_Demographics[numeric_cols_5].apply(lambda x: pd.to_numeric(x.str.replace(',', ''), errors='coerce'))"
   ]
  },
  {
   "cell_type": "code",
   "execution_count": 41,
   "id": "d77f84be",
   "metadata": {},
   "outputs": [
    {
     "data": {
      "application/vnd.microsoft.datawrangler.viewer.v0+json": {
       "columns": [
        {
         "name": "index",
         "rawType": "object",
         "type": "string"
        },
        {
         "name": "0",
         "rawType": "float64",
         "type": "float"
        }
       ],
       "ref": "9cd86531-94f7-4344-89a4-3eef5f00aa74",
       "rows": [
        [
         "Population",
         "1700642.2032967033"
        ],
        [
         "Area (sq km)",
         "4486.067400275103"
        ],
        [
         "Density",
         "859.3591160220994"
        ]
       ],
       "shape": {
        "columns": 1,
        "rows": 3
       }
      },
      "text/plain": [
       "Population      1.700642e+06\n",
       "Area (sq km)    4.486067e+03\n",
       "Density         8.593591e+02\n",
       "dtype: float64"
      ]
     },
     "execution_count": 41,
     "metadata": {},
     "output_type": "execute_result"
    }
   ],
   "source": [
    "District_Demographics_numeric.mean()"
   ]
  },
  {
   "cell_type": "code",
   "execution_count": 42,
   "id": "2f7ab6f9",
   "metadata": {},
   "outputs": [
    {
     "data": {
      "application/vnd.microsoft.datawrangler.viewer.v0+json": {
       "columns": [
        {
         "name": "index",
         "rawType": "object",
         "type": "string"
        },
        {
         "name": "0",
         "rawType": "float64",
         "type": "float"
        }
       ],
       "ref": "96c10239-46d1-4754-a710-df4a38157dd3",
       "rows": [
        [
         "Population",
         "163294.0"
        ],
        [
         "Area (sq km)",
         "30.0"
        ],
        [
         "Density",
         "157.0"
        ]
       ],
       "shape": {
        "columns": 1,
        "rows": 3
       }
      },
      "text/plain": [
       "Population      163294.0\n",
       "Area (sq km)        30.0\n",
       "Density            157.0\n",
       "Name: 0, dtype: float64"
      ]
     },
     "execution_count": 42,
     "metadata": {},
     "output_type": "execute_result"
    }
   ],
   "source": [
    "District_Demographics_numeric.mode().iloc[0]"
   ]
  },
  {
   "cell_type": "code",
   "execution_count": 43,
   "id": "39739757",
   "metadata": {},
   "outputs": [
    {
     "data": {
      "application/vnd.microsoft.datawrangler.viewer.v0+json": {
       "columns": [
        {
         "name": "index",
         "rawType": "object",
         "type": "string"
        },
        {
         "name": "0",
         "rawType": "float64",
         "type": "float"
        }
       ],
       "ref": "81f7a3a7-ec6d-4920-89a0-c48788a1c260",
       "rows": [
        [
         "Population",
         "1338162.5"
        ],
        [
         "Area (sq km)",
         "3435.0"
        ],
        [
         "Density",
         "365.0"
        ]
       ],
       "shape": {
        "columns": 1,
        "rows": 3
       }
      },
      "text/plain": [
       "Population      1338162.5\n",
       "Area (sq km)       3435.0\n",
       "Density             365.0\n",
       "dtype: float64"
      ]
     },
     "execution_count": 43,
     "metadata": {},
     "output_type": "execute_result"
    }
   ],
   "source": [
    "District_Demographics_numeric.median()"
   ]
  },
  {
   "cell_type": "code",
   "execution_count": 44,
   "id": "19f15246",
   "metadata": {},
   "outputs": [
    {
     "data": {
      "application/vnd.microsoft.datawrangler.viewer.v0+json": {
       "columns": [
        {
         "name": "index",
         "rawType": "object",
         "type": "string"
        },
        {
         "name": "0",
         "rawType": "float64",
         "type": "float"
        }
       ],
       "ref": "31ab2824-0f68-4aa1-bd1e-58869bd9bc87",
       "rows": [
        [
         "Population",
         "1454159.6785063702"
        ],
        [
         "Area (sq km)",
         "4250.74910100483"
        ],
        [
         "Density",
         "2785.264699243959"
        ]
       ],
       "shape": {
        "columns": 1,
        "rows": 3
       }
      },
      "text/plain": [
       "Population      1.454160e+06\n",
       "Area (sq km)    4.250749e+03\n",
       "Density         2.785265e+03\n",
       "dtype: float64"
      ]
     },
     "execution_count": 44,
     "metadata": {},
     "output_type": "execute_result"
    }
   ],
   "source": [
    "District_Demographics_numeric.std()"
   ]
  },
  {
   "cell_type": "code",
   "execution_count": 45,
   "id": "a951c392",
   "metadata": {},
   "outputs": [
    {
     "data": {
      "application/vnd.microsoft.datawrangler.viewer.v0+json": {
       "columns": [
        {
         "name": "index",
         "rawType": "object",
         "type": "string"
        },
        {
         "name": "0",
         "rawType": "float64",
         "type": "float"
        }
       ],
       "ref": "b4f874c8-adba-485f-bebf-e8ed44ead721",
       "rows": [
        [
         "Population",
         "1238067524.0"
        ],
        [
         "Area (sq km)",
         "3261371.0"
        ],
        [
         "Density",
         "622176.0"
        ]
       ],
       "shape": {
        "columns": 1,
        "rows": 3
       }
      },
      "text/plain": [
       "Population      1.238068e+09\n",
       "Area (sq km)    3.261371e+06\n",
       "Density         6.221760e+05\n",
       "dtype: float64"
      ]
     },
     "execution_count": 45,
     "metadata": {},
     "output_type": "execute_result"
    }
   ],
   "source": [
    "District_Demographics_numeric.sum()"
   ]
  },
  {
   "cell_type": "markdown",
   "id": "11ac7514",
   "metadata": {},
   "source": [
    "1.3 Checks for Missing Values"
   ]
  },
  {
   "cell_type": "code",
   "execution_count": 46,
   "id": "c7fbe6d3",
   "metadata": {},
   "outputs": [
    {
     "name": "stdout",
     "output_type": "stream",
     "text": [
      "State               9744\n",
      "Year                9744\n",
      "Quarter             9744\n",
      "Transactions        9744\n",
      "Amount (INR)        9745\n",
      "ATV (INR)           9744\n",
      "Registered Users    9744\n",
      "App Opens           9744\n",
      "dtype: int64\n",
      "State               95.081967\n",
      "Year                95.081967\n",
      "Quarter             95.081967\n",
      "Transactions        95.081967\n",
      "Amount (INR)        95.091725\n",
      "ATV (INR)           95.081967\n",
      "Registered Users    95.081967\n",
      "App Opens           95.081967\n",
      "dtype: float64\n"
     ]
    }
   ],
   "source": [
    "print(State_Txn_Users.isnull().sum())\n",
    "print((State_Txn_Users.isnull().sum() / len(State_Txn_Users)) * 100)"
   ]
  },
  {
   "cell_type": "code",
   "execution_count": 47,
   "id": "29e69508",
   "metadata": {},
   "outputs": [
    {
     "name": "stdout",
     "output_type": "stream",
     "text": [
      "State               7734\n",
      "Year                7734\n",
      "Quarter             7734\n",
      "Transaction Type    7734\n",
      "Transactions        7734\n",
      "Amount (INR)        7734\n",
      "ATV (INR)           7734\n",
      "dtype: int64\n",
      "State               75.468384\n",
      "Year                75.468384\n",
      "Quarter             75.468384\n",
      "Transaction Type    75.468384\n",
      "Transactions        75.468384\n",
      "Amount (INR)        75.468384\n",
      "ATV (INR)           75.468384\n",
      "dtype: float64\n"
     ]
    }
   ],
   "source": [
    "print(State_TxnSplit.isnull().sum())\n",
    "print((State_TxnSplit.isnull().sum() / len(State_TxnSplit)) * 100)"
   ]
  },
  {
   "cell_type": "code",
   "execution_count": 48,
   "id": "9bb91d74",
   "metadata": {},
   "outputs": [
    {
     "name": "stdout",
     "output_type": "stream",
     "text": [
      "State                4704\n",
      "Year                 4704\n",
      "Quarter              4704\n",
      "Brand                4704\n",
      "Registered Users     4704\n",
      "Percentage           4704\n",
      "Unnamed: 6          10248\n",
      "dtype: int64\n",
      "State                45.901639\n",
      "Year                 45.901639\n",
      "Quarter              45.901639\n",
      "Brand                45.901639\n",
      "Registered Users     45.901639\n",
      "Percentage           45.901639\n",
      "Unnamed: 6          100.000000\n",
      "dtype: float64\n"
     ]
    }
   ],
   "source": [
    "print(State_DeviceData.isnull().sum())\n",
    "print((State_DeviceData.isnull().sum() / len(State_DeviceData)) * 100)"
   ]
  },
  {
   "cell_type": "code",
   "execution_count": 49,
   "id": "c822e67e",
   "metadata": {},
   "outputs": [],
   "source": [
    "State_DeviceData.drop(columns=['Unnamed: 6'], inplace=True)"
   ]
  },
  {
   "cell_type": "code",
   "execution_count": null,
   "id": "35ceef1a",
   "metadata": {},
   "outputs": [],
   "source": []
  },
  {
   "cell_type": "markdown",
   "id": "8df4d8bf",
   "metadata": {},
   "source": [
    "1.4 Create a summary"
   ]
  },
  {
   "cell_type": "code",
   "execution_count": 50,
   "id": "ad7e96cb",
   "metadata": {},
   "outputs": [
    {
     "name": "stdout",
     "output_type": "stream",
     "text": [
      "Number of states: 36\n",
      "Number of districts: 723\n",
      "State with highest number of districts: Uttar Pradesh (75 districts)\n",
      "Top 5 states by number of districts:\n",
      "State\n",
      "Uttar Pradesh     75\n",
      "Madhya Pradesh    52\n",
      "Bihar             38\n",
      "Tamil Nadu        37\n",
      "Maharashtra       36\n",
      "Name: District, dtype: int64\n"
     ]
    }
   ],
   "source": [
    "Number_of_States = State_Txn_Users['State'].nunique()\n",
    "print(f'Number of states: {Number_of_States}')\n",
    "\n",
    "Number_of_Districts = District_Txn_Users['District'].nunique()\n",
    "print(f'Number of districts: {Number_of_Districts}')\n",
    "\n",
    "Top_State = District_Txn_Users.groupby('State')['District'].nunique()\n",
    "max_state = Top_State.idxmax()\n",
    "max_districts = Top_State.max()\n",
    "print(f'State with highest number of districts: {max_state} ({max_districts} districts)')\n",
    "\n",
    "Top5_States = Top_State.sort_values(ascending=False).head(5)\n",
    "print(\"Top 5 states by number of districts:\")\n",
    "print(Top5_States)\n"
   ]
  },
  {
   "cell_type": "markdown",
   "id": "b20d4414",
   "metadata": {},
   "source": [
    "2: Exploratory Data Analysis (EDA)"
   ]
  },
  {
   "cell_type": "markdown",
   "id": "31fadf37",
   "metadata": {},
   "source": [
    "2.1 Analyze transaction trends over the years of each state"
   ]
  },
  {
   "cell_type": "code",
   "execution_count": 51,
   "id": "05fff288",
   "metadata": {},
   "outputs": [],
   "source": [
    "combined_1 = pd.concat([State_Txn_Users[[\"State\", \"Year\", \"Quarter\"]], State_Txn_Users_numeric], axis=1)\n",
    "combined_2 = pd.concat([State_TxnSplit[[\"State\", \"Year\", \"Quarter\", \"Transaction Type\"]], State_TxnSplit_numeric], axis=1)\n",
    "combined_3 = pd.concat([State_DeviceData[[\"State\", \"Brand\"]], State_DeviceData_numeric], axis=1)\n",
    "combined_4 = pd.concat([District_Txn_Users[[\"State\", \"Year\", \"Quarter\", \"District\", \"Code\"]], District_Txn_Users_numeric], axis=1)\n",
    "combined_5 = pd.concat([District_Demographics[[\"State\", \"District\", \"Headquarters\", \"Code\", \"Alternate Name\"]], District_Demographics_numeric], axis=1)"
   ]
  },
  {
   "cell_type": "code",
   "execution_count": 52,
   "id": "e0dca015",
   "metadata": {},
   "outputs": [
    {
     "name": "stdout",
     "output_type": "stream",
     "text": [
      "Summary Table of Transactions and Amount per State over years:\n",
      "                         State  Year  total_transactions  total_amount\n",
      "1    Andaman & Nicobar Islands  2018               58021     189076104\n",
      "2    Andaman & Nicobar Islands  2019              133104     473464758\n",
      "3    Andaman & Nicobar Islands  2020              446274    1296423415\n",
      "4    Andaman & Nicobar Islands  2021              586166    1682853583\n",
      "5               Andhra Pradesh  2018            77779112  122072014671\n",
      "..                         ...   ...                 ...           ...\n",
      "140                Uttarakhand  2021            44608834   77279007275\n",
      "141                West Bengal  2018           120011635  111588715417\n",
      "142                West Bengal  2019           257900590  266014506615\n",
      "143                West Bengal  2020           304222327  552731584289\n",
      "144                West Bengal  2021           260151489  522372018535\n",
      "\n",
      "[144 rows x 4 columns]\n"
     ]
    }
   ],
   "source": [
    "state_summary = combined_1.groupby([\"State\", \"Year\"]).agg(\n",
    "    total_transactions=(\"Transactions\", \"sum\"),\n",
    "    total_amount=(\"Amount (INR)\", \"sum\")\n",
    ").reset_index()\n",
    "state_summary.index = state_summary.index + 1\n",
    "\n",
    "state_summary[\"Year\"] = state_summary[\"Year\"].astype(int)\n",
    "state_summary[\"total_transactions\"] = state_summary[\"total_transactions\"].astype(int)\n",
    "state_summary[\"total_amount\"] = state_summary[\"total_amount\"].astype(int)\n",
    "\n",
    "print(\"Summary Table of Transactions and Amount per State over years:\")\n",
    "print(state_summary)"
   ]
  },
  {
   "cell_type": "code",
   "execution_count": 53,
   "id": "6325484e",
   "metadata": {},
   "outputs": [
    {
     "name": "stdout",
     "output_type": "stream",
     "text": [
      "Top 5 states with Highest Transactions:\n",
      "                 total_transactions\n",
      "State                             \n",
      "Karnataka             2.981045e+09\n",
      "Maharashtra           2.833670e+09\n",
      "Telangana             2.347430e+09\n",
      "Andhra Pradesh        1.781091e+09\n",
      "Rajasthan             1.382919e+09 \n",
      "\n",
      "Top 5 states with Lowest Transactions:\n",
      "                            total_transactions\n",
      "State                                        \n",
      "Lakshadweep                           71610.0\n",
      "Andaman & Nicobar Islands           1223565.0\n",
      "Ladakh                              1880109.0\n",
      "Mizoram                             2162776.0\n",
      "Meghalaya                           5648913.0\n"
     ]
    }
   ],
   "source": [
    "state_total = combined_1.groupby(\"State\").agg(\n",
    "    total_transactions=(\"Transactions\", \"sum\")\n",
    ")\n",
    "\n",
    "Top5_Higest_State = state_total.nlargest(5,\"total_transactions\")\n",
    "\n",
    "Top5_Lowest_State = state_total.nsmallest(5,\"total_transactions\")\n",
    "\n",
    "print(\"Top 5 states with Highest Transactions:\\n\", Top5_Higest_State, \"\\n\")\n",
    "print(\"Top 5 states with Lowest Transactions:\\n\", Top5_Lowest_State)"
   ]
  },
  {
   "cell_type": "markdown",
   "id": "7732b67e",
   "metadata": {},
   "source": [
    "2.2 Identify the most common transaction types in each state and quarter"
   ]
  },
  {
   "cell_type": "code",
   "execution_count": 54,
   "id": "5f02ed15",
   "metadata": {},
   "outputs": [
    {
     "name": "stdout",
     "output_type": "stream",
     "text": [
      "Most frequent transaction count for each state & quarter:\n",
      "                         State  Quarter    Transaction Type\n",
      "1    Andaman & Nicobar Islands        1  Financial Services\n",
      "2    Andaman & Nicobar Islands        2  Financial Services\n",
      "3    Andaman & Nicobar Islands        3  Financial Services\n",
      "4    Andaman & Nicobar Islands        4  Financial Services\n",
      "5               Andhra Pradesh        1  Financial Services\n",
      "..                         ...      ...                 ...\n",
      "140                Uttarakhand        4  Financial Services\n",
      "141                West Bengal        1  Financial Services\n",
      "142                West Bengal        2  Financial Services\n",
      "143                West Bengal        3  Financial Services\n",
      "144                West Bengal        4  Financial Services\n",
      "\n",
      "[144 rows x 3 columns]\n"
     ]
    }
   ],
   "source": [
    "most_freq_State_Txn = (\n",
    "    combined_2\n",
    "    .groupby(['State', 'Quarter'])['Transaction Type']\n",
    "    .agg(lambda x: x.mode().iloc[0] if not x.mode().empty else None)\n",
    "    .reset_index()\n",
    ")\n",
    "\n",
    "most_freq_State_Txn.index = most_freq_State_Txn.index + 1\n",
    "most_freq_State_Txn[\"Quarter\"] = most_freq_State_Txn[\"Quarter\"].astype(int)\n",
    "\n",
    "print(\"Most frequent transaction count for each state & quarter:\")\n",
    "print(most_freq_State_Txn)"
   ]
  },
  {
   "cell_type": "markdown",
   "id": "d64a096d",
   "metadata": {},
   "source": [
    "2.3 Determine Device brand with Highest number of registered users in each state"
   ]
  },
  {
   "cell_type": "code",
   "execution_count": 55,
   "id": "78e00137",
   "metadata": {},
   "outputs": [
    {
     "name": "stdout",
     "output_type": "stream",
     "text": [
      "State                     Top Brand       Users     \n",
      "--------------------------------------------------\n",
      "Andaman & Nicobar Islands Vivo            15056     \n",
      "Andhra Pradesh            Xiaomi          4937684   \n",
      "Arunachal Pradesh         Vivo            63439     \n",
      "Assam                     Xiaomi          909274    \n",
      "Bihar                     Xiaomi          4268361   \n",
      "Chandigarh                Xiaomi          101761    \n",
      "Chhattisgarh              Vivo            1169224   \n",
      "Dadra & Nagar Haveli and Daman & Diu Vivo            87001     \n",
      "Delhi                     Xiaomi          2731995   \n",
      "Goa                       Xiaomi          152107    \n",
      "Gujarat                   Vivo            3834323   \n",
      "Haryana                   Xiaomi          2505880   \n",
      "Himachal Pradesh          Xiaomi          513196    \n",
      "Jammu & Kashmir           Xiaomi          446949    \n",
      "Jharkhand                 Xiaomi          1595475   \n",
      "Karnataka                 Xiaomi          6567268   \n",
      "Kerala                    Xiaomi          1714598   \n",
      "Ladakh                    Xiaomi          21227     \n",
      "Lakshadweep               Vivo            1118      \n",
      "Madhya Pradesh            Xiaomi          4052668   \n",
      "Maharashtra               Xiaomi          9764252   \n",
      "Manipur                   Xiaomi          159031    \n",
      "Meghalaya                 Xiaomi          48812     \n",
      "Mizoram                   Xiaomi          29025     \n",
      "Nagaland                  Xiaomi          69897     \n",
      "Odisha                    Xiaomi          2776465   \n",
      "Puducherry                Xiaomi          83067     \n",
      "Punjab                    Xiaomi          1380642   \n",
      "Rajasthan                 Vivo            4603263   \n",
      "Sikkim                    Samsung         55452     \n",
      "Tamil Nadu                Xiaomi          4159447   \n",
      "Telangana                 Xiaomi          4736356   \n",
      "Tripura                   Xiaomi          116546    \n",
      "Uttarakhand               Xiaomi          681400    \n",
      "Uttar Pradesh             Xiaomi          8037309   \n",
      "West Bengal               Xiaomi          4654760   \n"
     ]
    }
   ],
   "source": [
    "from collections import defaultdict\n",
    "\n",
    "state_max = defaultdict(lambda: {\"Brand\": None, \"Registered Users\": -1})\n",
    "\n",
    "for _, row in combined_3.iterrows():\n",
    "    state = row[\"State\"]\n",
    "    brand = row[\"Brand\"]\n",
    "    users = row[\"Registered Users\"]\n",
    "    if pd.notnull(state) and pd.notnull(brand) and pd.notnull(users):\n",
    "        if users > state_max[state][\"Registered Users\"]:\n",
    "            state_max[state] = {\"Brand\": brand, \"Registered Users\": users}\n",
    "\n",
    "print(f\"{'State':<25} {'Top Brand':<15} {'Users':<10}\")\n",
    "print(\"-\" * 50)\n",
    "for state, info in state_max.items():\n",
    "    print(f\"{state:<25} {info['Brand']:<15} {int(info['Registered Users']):<10}\")\n"
   ]
  },
  {
   "cell_type": "markdown",
   "id": "0a81bb7f",
   "metadata": {},
   "source": [
    "2.4 Top District based on population"
   ]
  },
  {
   "cell_type": "code",
   "execution_count": 56,
   "id": "d7418ebe",
   "metadata": {},
   "outputs": [
    {
     "name": "stdout",
     "output_type": "stream",
     "text": [
      "                                   State                District   Population\n",
      "1              Andaman & Nicobar Islands           South Andaman     2,38,142\n",
      "2                         Andhra Pradesh           East Godavari    51,51,549\n",
      "3                      Arunachal Pradesh              Papum Pare     1,76,385\n",
      "4                                  Assam                  Nagaon    28,26,006\n",
      "5                                  Bihar                   Patna    57,72,804\n",
      "6                             Chandigarh              Chandigarh    10,55,450\n",
      "7                           Chhattisgarh                  Raipur    21,60,876\n",
      "8   Dadra & Nagar Haveli and Daman & Diu  Dadra and Nagar Haveli     3,43,709\n",
      "9                                  Delhi        North West Delhi    36,56,539\n",
      "10                                   Goa               North Goa     8,17,761\n",
      "11                               Gujarat               Ahmedabad    72,08,200\n",
      "12                               Haryana               Faridabad    17,98,954\n",
      "13                      Himachal Pradesh                  Kangra    15,07,223\n",
      "14                       Jammu & Kashmir                   Jammu    15,26,406\n",
      "15                             Jharkhand                  Ranchi    29,12,022\n",
      "16                             Karnataka         Bangalore Urban    95,88,910\n",
      "17                                Kerala              Malappuram    41,10,956\n",
      "18                                Ladakh                  Kargil     1,43,388\n",
      "19                           Lakshadweep             Lakshadweep       64,473\n",
      "20                        Madhya Pradesh                  Indore    32,72,335\n",
      "21                           Maharashtra                    Pune    94,26,959\n",
      "22                               Manipur             Imphal West     5,14,683\n",
      "23                             Meghalaya        East Khasi Hills     8,24,059\n",
      "24                               Mizoram                  Aizawl     4,04,054\n",
      "25                              Nagaland                Tuensang     4,14,801\n",
      "26                                Odisha                  Ganjam    35,20,151\n",
      "27                            Puducherry              Puducherry     9,50,289\n",
      "28                                Punjab                Ludhiana    34,87,882\n",
      "29                             Rajasthan                  Jaipur    66,63,971\n",
      "30                                Sikkim             East Sikkim     2,81,293\n",
      "31                            Tamil Nadu                 Chennai    71,39,882\n",
      "32                             Telangana               Hyderabad    39,43,323\n",
      "33                               Tripura            West Tripura     9,17,534\n",
      "34                         Uttar Pradesh               Allahabad    59,59,798\n",
      "35                           Uttarakhand                Haridwar    19,27,029\n",
      "36                           West Bengal       North 24 Parganas  1,00,82,852\n"
     ]
    }
   ],
   "source": [
    "idx = District_Demographics_numeric.groupby(District_Demographics['State'])['Population'].idxmax()\n",
    "top_district = District_Demographics.loc[idx].reset_index()\n",
    "\n",
    "top_district.index = top_district.index + 1\n",
    "print(top_district[['State', 'District', 'Population']])"
   ]
  },
  {
   "cell_type": "code",
   "execution_count": 57,
   "id": "71333b2a",
   "metadata": {},
   "outputs": [
    {
     "data": {
      "image/png": "[encoded data removed]",
      "text/plain": [
       "<Figure size 1400x700 with 1 Axes>"
      ]
     },
     "metadata": {},
     "output_type": "display_data"
    }
   ],
   "source": [
    "# Visualizations\n",
    "\n",
    "import matplotlib.pyplot as plt\n",
    "\n",
    "plt.figure(figsize=(14, 7))\n",
    "plt.bar(top_district['District'], top_district['Population'].str.replace(',', '').astype(int), color='skyblue')\n",
    "plt.xticks(rotation=75, ha='right')\n",
    "plt.xlabel(\"District\")\n",
    "plt.ylabel(\"Population\")\n",
    "plt.title(\"Top District by Population in Each State\")\n",
    "plt.tight_layout()\n",
    "plt.show()\n"
   ]
  },
  {
   "cell_type": "markdown",
   "id": "f0d8d3c8",
   "metadata": {},
   "source": [
    "2.5 Calculate the average transaction value (ATV) for each state"
   ]
  },
  {
   "cell_type": "code",
   "execution_count": 58,
   "id": "c202c139",
   "metadata": {},
   "outputs": [
    {
     "name": "stdout",
     "output_type": "stream",
     "text": [
      "                                   State  Average_Transactions\n",
      "1              Andaman & Nicobar Islands           3159.357143\n",
      "2                         Andhra Pradesh           1748.071429\n",
      "3                      Arunachal Pradesh           2638.357143\n",
      "4                                  Assam           2008.285714\n",
      "5                                  Bihar           2023.357143\n",
      "6                             Chandigarh           2113.714286\n",
      "7                           Chhattisgarh           1650.857143\n",
      "8   Dadra & Nagar Haveli and Daman & Diu           1487.285714\n",
      "9                                  Delhi           1589.785714\n",
      "10                                   Goa           1895.285714\n",
      "11                               Gujarat           1696.000000\n",
      "12                               Haryana           1831.928571\n",
      "13                      Himachal Pradesh           1825.428571\n",
      "14                       Jammu & Kashmir           2508.500000\n",
      "15                             Jharkhand           1632.285714\n",
      "16                             Karnataka           1517.428571\n",
      "17                                Kerala           1671.357143\n",
      "18                                Ladakh           3408.357143\n",
      "19                           Lakshadweep           2776.071429\n",
      "20                        Madhya Pradesh           1601.285714\n",
      "21                           Maharashtra           1516.285714\n",
      "22                               Manipur           2621.142857\n",
      "23                             Meghalaya           2056.285714\n",
      "24                               Mizoram           2927.500000\n",
      "25                              Nagaland           2609.928571\n",
      "26                                Odisha           1428.071429\n",
      "27                            Puducherry           1927.642857\n",
      "28                                Punjab           2085.142857\n",
      "29                             Rajasthan           1757.714286\n",
      "30                                Sikkim           2087.857143\n",
      "31                            Tamil Nadu           1861.285714\n",
      "32                             Telangana           1842.928571\n",
      "33                               Tripura           1554.214286\n",
      "34                         Uttar Pradesh           1659.357143\n",
      "35                           Uttarakhand           1672.642857\n",
      "36                           West Bengal           1373.500000\n"
     ]
    }
   ],
   "source": [
    "average_TXn_State = combined_1.groupby('State')['ATV (INR)'].mean().reset_index()\n",
    "average_TXn_State.columns = ['State', 'Average_Transactions']\n",
    "\n",
    "average_TXn_State.index = average_TXn_State.index + 1\n",
    "\n",
    "print(average_TXn_State)"
   ]
  },
  {
   "cell_type": "code",
   "execution_count": 59,
   "id": "16420b20",
   "metadata": {},
   "outputs": [
    {
     "name": "stdout",
     "output_type": "stream",
     "text": [
      "Top 5 States by ATV:\n",
      "   index                      State  Average_Transactions\n",
      "1     18                     Ladakh           3408.357143\n",
      "2      1  Andaman & Nicobar Islands           3159.357143\n",
      "3     24                    Mizoram           2927.500000\n",
      "4     19                Lakshadweep           2776.071429\n",
      "5      3          Arunachal Pradesh           2638.357143\n",
      "\n",
      "Bottom 5 States by ATV:\n",
      "   index                                 State  Average_Transactions\n",
      "1     36                           West Bengal           1373.500000\n",
      "2     26                                Odisha           1428.071429\n",
      "3      8  Dadra & Nagar Haveli and Daman & Diu           1487.285714\n",
      "4     21                           Maharashtra           1516.285714\n",
      "5     16                             Karnataka           1517.428571\n"
     ]
    }
   ],
   "source": [
    "Top5_Txn_State = average_TXn_State.sort_values(by='Average_Transactions', ascending=False).head(5).reset_index()\n",
    "Bottom5_Txn_State = average_TXn_State.sort_values(by='Average_Transactions').head(5).reset_index()\n",
    "\n",
    "Top5_Txn_State.index = Top5_Txn_State.index + 1\n",
    "Bottom5_Txn_State.index = Bottom5_Txn_State.index + 1\n",
    "\n",
    "print(\"Top 5 States by ATV:\")\n",
    "print(Top5_Txn_State)\n",
    "\n",
    "print(\"\\nBottom 5 States by ATV:\")\n",
    "print(Bottom5_Txn_State)"
   ]
  },
  {
   "cell_type": "code",
   "execution_count": 60,
   "id": "ae0f6532",
   "metadata": {},
   "outputs": [
    {
     "name": "stdout",
     "output_type": "stream",
     "text": [
      "                         State  Year  Quarter  App Opens\n",
      "1    Andaman & Nicobar Islands  2018        1          0\n",
      "2    Andaman & Nicobar Islands  2018        2          0\n",
      "3    Andaman & Nicobar Islands  2018        3          0\n",
      "4    Andaman & Nicobar Islands  2018        4          0\n",
      "5    Andaman & Nicobar Islands  2019        1          0\n",
      "..                         ...   ...      ...        ...\n",
      "500                West Bengal  2020        2  198589332\n",
      "501                West Bengal  2020        3  246554831\n",
      "502                West Bengal  2020        4  291721919\n",
      "503                West Bengal  2021        1  316832674\n",
      "504                West Bengal  2021        2  275341466\n",
      "\n",
      "[504 rows x 4 columns]\n"
     ]
    }
   ],
   "source": [
    "App_Opens = combined_1.groupby(['State', 'Year', 'Quarter'])['App Opens'].sum().reset_index()\n",
    "\n",
    "App_Opens.index = App_Opens.index + 1\n",
    "App_Opens[\"Year\"] = App_Opens[\"Year\"].astype(int)\n",
    "App_Opens[\"Quarter\"] = App_Opens[\"Quarter\"].astype(int)\n",
    "App_Opens[\"App Opens\"] = App_Opens[\"App Opens\"].astype(int)\n",
    "\n",
    "print(App_Opens)"
   ]
  },
  {
   "cell_type": "code",
   "execution_count": 61,
   "id": "c48345ff",
   "metadata": {},
   "outputs": [
    {
     "data": {
      "image/png": "[encoded data removed]",
      "text/plain": [
       "<Figure size 1000x600 with 1 Axes>"
      ]
     },
     "metadata": {},
     "output_type": "display_data"
    }
   ],
   "source": [
    "def plot_app_opens_trend(df, selected_state):\n",
    "\n",
    "    state_df = df[df['State'] == selected_state].copy()\n",
    "    state_df['Time'] = state_df['Year'].astype(str) + '-' + state_df['Quarter'].astype(str)\n",
    "    state_df = state_df.sort_values(by='Time')\n",
    "\n",
    "    plt.figure(figsize=(10, 6))\n",
    "    plt.plot(state_df['Time'], state_df['App Opens'], marker='o', linestyle='-')\n",
    "    plt.title(f'App opens over time in {selected_state}')\n",
    "    plt.xlabel('Time (Year-Quarter)')\n",
    "    plt.ylabel('App Opens')\n",
    "    plt.xticks(rotation=45)\n",
    "    plt.grid(True)\n",
    "    plt.tight_layout()\n",
    "    plt.show()\n",
    "    \n",
    "plot_app_opens_trend(App_Opens, 'Maharashtra')"
   ]
  },
  {
   "cell_type": "markdown",
   "id": "613343a2",
   "metadata": {},
   "source": [
    "2.7 Distribution of transaction types"
   ]
  },
  {
   "cell_type": "code",
   "execution_count": 62,
   "id": "32adbe38",
   "metadata": {},
   "outputs": [],
   "source": [
    "latest_year = combined_2['Year'].max()\n",
    "latest_quarter = combined_2[combined_2['Year'] == latest_year]['Quarter'].max()\n",
    "\n",
    "recent_df = combined_2[(combined_2[\"Year\"] == latest_year) & (combined_2[\"Quarter\"] == latest_quarter)]"
   ]
  },
  {
   "cell_type": "code",
   "execution_count": 63,
   "id": "f1046bf6",
   "metadata": {},
   "outputs": [
    {
     "name": "stdout",
     "output_type": "stream",
     "text": [
      "2021.0\n",
      "2.0\n"
     ]
    }
   ],
   "source": [
    "print(latest_year)\n",
    "print(latest_quarter)\n"
   ]
  },
  {
   "cell_type": "code",
   "execution_count": 64,
   "id": "78309aeb",
   "metadata": {},
   "outputs": [
    {
     "data": {
      "image/png": "[encoded data removed]",
      "text/plain": [
       "<Figure size 1200x600 with 1 Axes>"
      ]
     },
     "metadata": {},
     "output_type": "display_data"
    }
   ],
   "source": [
    "import seaborn as sns\n",
    "import matplotlib.pyplot as plt\n",
    "\n",
    "plt.figure(figsize=(12, 6))\n",
    "sns.barplot(data=recent_df, x=\"State\", y=\"Transactions\", hue=\"Transaction Type\")\n",
    "plt.title(f\"Transaction Type Distribution by State (Q{int(latest_quarter)} {int(latest_year)})\")\n",
    "plt.xlabel(\"State\")\n",
    "plt.ylabel(\"Transaction Count\")\n",
    "plt.xticks(rotation=45)\n",
    "plt.legend(title=\"Transaction Type\")\n",
    "plt.tight_layout()\n",
    "plt.show()"
   ]
  },
  {
   "cell_type": "markdown",
   "id": "bad76fca",
   "metadata": {},
   "source": [
    "2.8 find unique mapping between district name and code"
   ]
  },
  {
   "cell_type": "code",
   "execution_count": 65,
   "id": "6fca585f",
   "metadata": {},
   "outputs": [],
   "source": [
    "Uniq_mapping = District_Txn_Users.drop_duplicates(subset=[\"District\", \"Code\"])"
   ]
  },
  {
   "cell_type": "code",
   "execution_count": 66,
   "id": "0e5d6353",
   "metadata": {},
   "outputs": [],
   "source": [
    "Uniq_mapping.to_csv(\"District_Mapping.csv\", index=False)"
   ]
  },
  {
   "cell_type": "markdown",
   "id": "069e658c",
   "metadata": {},
   "source": [
    "3: Data Quality Checks"
   ]
  },
  {
   "cell_type": "code",
   "execution_count": 67,
   "id": "982e566b",
   "metadata": {},
   "outputs": [],
   "source": [
    "state_summary = combined_1.groupby(\"State\").agg({\n",
    "    \"Transactions\": \"sum\",\n",
    "    \"Amount (INR)\": \"sum\",\n",
    "    \"ATV (INR)\": \"sum\",\n",
    "    \"Registered Users\": \"sum\"\n",
    "}).reset_index()\n",
    "\n",
    "district_summary = combined_4.groupby(\"State\").agg({\n",
    "    \"Transactions\": \"sum\",\n",
    "    \"Amount (INR)\": \"sum\",\n",
    "    \"ATV (INR)\": \"sum\",\n",
    "    \"Registered Users\": \"sum\"\n",
    "}).reset_index()"
   ]
  },
  {
   "cell_type": "code",
   "execution_count": 68,
   "id": "122ba360",
   "metadata": {},
   "outputs": [],
   "source": [
    "merge_summary = pd.merge(district_summary, state_summary, on=\"State\", suffixes=(\"_district\", \"_state\"))"
   ]
  },
  {
   "cell_type": "code",
   "execution_count": 69,
   "id": "daa3651b",
   "metadata": {},
   "outputs": [],
   "source": [
    "discrepancies = merge_summary[\n",
    "    (merge_summary[\"Transactions_district\"] != merge_summary[\"Transactions_state\"]) |\n",
    "    (merge_summary[\"Amount (INR)_district\"] != merge_summary[\"Amount (INR)_state\"]) |\n",
    "    (merge_summary[\"ATV (INR)_district\"] != merge_summary[\"ATV (INR)_state\"]) |\n",
    "    (merge_summary[\"Registered Users_district\"] != merge_summary[\"Registered Users_state\"])\n",
    "]\n",
    "\n",
    "discrepancies.index = discrepancies.index + 1"
   ]
  },
  {
   "cell_type": "code",
   "execution_count": 70,
   "id": "69e83bb5",
   "metadata": {},
   "outputs": [
    {
     "name": "stdout",
     "output_type": "stream",
     "text": [
      "                                   State  Transactions_district  \\\n",
      "1              Andaman & Nicobar Islands                1223565   \n",
      "2                         Andhra Pradesh             1781091169   \n",
      "3                      Arunachal Pradesh                8043799   \n",
      "4                                  Assam              123577981   \n",
      "5                                  Bihar              713643889   \n",
      "7                           Chhattisgarh              241908549   \n",
      "8   Dadra & Nagar Haveli and Daman & Diu               12462185   \n",
      "9                                  Delhi             1011031124   \n",
      "10                                   Goa               24481604   \n",
      "11                               Gujarat              612992823   \n",
      "12                               Haryana              567751410   \n",
      "13                      Himachal Pradesh               52987445   \n",
      "14                       Jammu & Kashmir               45053328   \n",
      "15                             Jharkhand              275270987   \n",
      "16                             Karnataka             2981044533   \n",
      "17                                Kerala              223637876   \n",
      "18                                Ladakh                1880109   \n",
      "20                        Madhya Pradesh             1100253728   \n",
      "21                           Maharashtra             2833670154   \n",
      "22                               Manipur               12318043   \n",
      "23                             Meghalaya                5648913   \n",
      "24                               Mizoram                2162776   \n",
      "25                              Nagaland                5864977   \n",
      "26                                Odisha              740479146   \n",
      "27                            Puducherry               17292386   \n",
      "28                                Punjab              181336904   \n",
      "29                             Rajasthan             1382918930   \n",
      "30                                Sikkim                6483948   \n",
      "31                            Tamil Nadu              800399873   \n",
      "32                             Telangana             2347430243   \n",
      "33                               Tripura               12018152   \n",
      "34                         Uttar Pradesh             1314714390   \n",
      "35                           Uttarakhand              124011162   \n",
      "36                           West Bengal              942286041   \n",
      "\n",
      "    Amount (INR)_district  ATV (INR)_district  Registered Users_district  \\\n",
      "1              3641817862            137481.0                     408396   \n",
      "2           3860292139025            355558.0                  158007957   \n",
      "3             22251830962            926797.0                    1862214   \n",
      "4            281408712659            849880.0                   26860751   \n",
      "5           1639578926746           1096517.0                  115284760   \n",
      "7            415635319214            666556.0                   37448388   \n",
      "8             18658784569             68336.0                    2701112   \n",
      "9           1649942211113            241694.0                   95374654   \n",
      "10            44271871113             52456.0                    4755320   \n",
      "11          1105328681956            746248.0                  126380032   \n",
      "12          1059831565196            684030.0                   85564119   \n",
      "13            97865455328            308431.0                   13373980   \n",
      "14           109495435916            776762.0                    9756438   \n",
      "15           490570131444            638919.0                   44768682   \n",
      "16          4361395878908            762047.0                  203098564   \n",
      "17           372959870820            326071.0                   51267042   \n",
      "18             6606978452             94957.0                     579825   \n",
      "20          1915100967821           1247001.0                  125339823   \n",
      "21          4290995253330            801245.0                  315783658   \n",
      "22            35793251133            570903.0                    2317734   \n",
      "23            12541621888            269039.0                    1436472   \n",
      "24             6317141431            337153.0                     605612   \n",
      "25            16387572679            355239.0                    1440387   \n",
      "26          1220614556983            669079.0                   80404103   \n",
      "27            32097692614            106502.0                    2785162   \n",
      "28           394177285091            672400.0                   45811761   \n",
      "29          2625584351277            851282.0                  149770064   \n",
      "30            14155544437            123074.0                    1279199   \n",
      "31          1481448044175           1020642.0                  132437426   \n",
      "32          4574245879730            951982.0                  149224214   \n",
      "33            20970514761            173424.0                    3661575   \n",
      "34          2399757104098           1862192.0                  246200404   \n",
      "35           215071471853            307986.0                   23792747   \n",
      "36          1452706824853            443599.0                  144242183   \n",
      "\n",
      "    Transactions_state  Amount (INR)_state  ATV (INR)_state  \\\n",
      "1         1.223565e+06        3.641818e+09          44231.0   \n",
      "2         1.781091e+09        3.187847e+12          24473.0   \n",
      "3         8.043799e+06        2.225183e+10          36937.0   \n",
      "4         1.235780e+08        2.814087e+11          28116.0   \n",
      "5         7.136439e+08        1.639579e+12          28327.0   \n",
      "7         2.419085e+08        4.156353e+11          23112.0   \n",
      "8         1.246218e+07        1.865878e+10          20822.0   \n",
      "9         1.011031e+09        1.649942e+12          22257.0   \n",
      "10        2.448160e+07        4.427187e+10          26534.0   \n",
      "11        6.129928e+08        1.105329e+12          23744.0   \n",
      "12        5.677514e+08        1.059832e+12          25647.0   \n",
      "13        5.298744e+07        9.786546e+10          25556.0   \n",
      "14        4.505333e+07        1.094954e+11          35119.0   \n",
      "15        2.752710e+08        4.905701e+11          22852.0   \n",
      "16        2.981045e+09        4.361396e+12          21244.0   \n",
      "17        2.236379e+08        3.729599e+11          23399.0   \n",
      "18        1.880109e+06        6.606978e+09          47717.0   \n",
      "20        1.100254e+09        1.915101e+12          22418.0   \n",
      "21        2.833670e+09        4.290995e+12          21228.0   \n",
      "22        1.231804e+07        3.579325e+10          36696.0   \n",
      "23        5.648913e+06        1.254162e+10          28788.0   \n",
      "24        2.162776e+06        6.317141e+09          40985.0   \n",
      "25        5.864977e+06        1.638757e+10          36539.0   \n",
      "26        7.404791e+08        1.220615e+12          19993.0   \n",
      "27        1.729239e+07        3.209769e+10          26987.0   \n",
      "28        1.813369e+08        3.941773e+11          29192.0   \n",
      "29        1.382919e+09        2.625584e+12          24608.0   \n",
      "30        6.483948e+06        1.415554e+10          29230.0   \n",
      "31        8.003999e+08        1.481448e+12          26058.0   \n",
      "32        2.347430e+09        4.574246e+12          25801.0   \n",
      "33        1.201815e+07        2.097051e+10          21759.0   \n",
      "34        1.314714e+09        2.399757e+12          23231.0   \n",
      "35        1.240112e+08        2.150715e+11          23417.0   \n",
      "36        9.422860e+08        1.452707e+12          19229.0   \n",
      "\n",
      "    Registered Users_state  \n",
      "1                 408396.0  \n",
      "2              158007957.0  \n",
      "3                1862214.0  \n",
      "4               26860751.0  \n",
      "5              115284760.0  \n",
      "7               37448388.0  \n",
      "8                2701112.0  \n",
      "9               95374654.0  \n",
      "10               4755320.0  \n",
      "11             126380032.0  \n",
      "12              85564119.0  \n",
      "13              13373980.0  \n",
      "14               9756438.0  \n",
      "15              44768682.0  \n",
      "16             203098564.0  \n",
      "17              51267042.0  \n",
      "18                579825.0  \n",
      "20             125339823.0  \n",
      "21             315783658.0  \n",
      "22               2317734.0  \n",
      "23               1436472.0  \n",
      "24                605612.0  \n",
      "25               1440387.0  \n",
      "26              80404103.0  \n",
      "27               2785162.0  \n",
      "28              45811761.0  \n",
      "29             149770064.0  \n",
      "30               1279199.0  \n",
      "31             132437426.0  \n",
      "32             149224214.0  \n",
      "33               3661575.0  \n",
      "34             246200404.0  \n",
      "35              23792747.0  \n",
      "36             144242183.0  \n"
     ]
    }
   ],
   "source": [
    "print(discrepancies)"
   ]
  },
  {
   "cell_type": "markdown",
   "id": "98bbc72e",
   "metadata": {},
   "source": [
    "4: Data merging and advanced analysis"
   ]
  },
  {
   "cell_type": "markdown",
   "id": "df652bb7",
   "metadata": {},
   "source": [
    "4.1 Ratio of users to population by state"
   ]
  },
  {
   "cell_type": "code",
   "execution_count": 71,
   "id": "da9bdc79",
   "metadata": {},
   "outputs": [],
   "source": [
    "state_population = combined_5.groupby('State')['Population'].sum().reset_index()\n",
    "merged_ratio = combined_1.merge(state_population, on='State')\n",
    "merged_ratio['user_to_popultion_ratio'] = merged_ratio['Registered Users'] / merged_ratio['Population']"
   ]
  },
  {
   "cell_type": "code",
   "execution_count": 72,
   "id": "f5953c5a",
   "metadata": {},
   "outputs": [
    {
     "name": "stdout",
     "output_type": "stream",
     "text": [
      "                         State  user_to_popultion_ratio\n",
      "0    Andaman & Nicobar Islands                 0.017710\n",
      "1    Andaman & Nicobar Islands                 0.024712\n",
      "2    Andaman & Nicobar Islands                 0.031922\n",
      "3    Andaman & Nicobar Islands                 0.039997\n",
      "4    Andaman & Nicobar Islands                 0.048862\n",
      "..                         ...                      ...\n",
      "499                West Bengal                 0.142434\n",
      "500                West Bengal                 0.155645\n",
      "501                West Bengal                 0.168720\n",
      "502                West Bengal                 0.181073\n",
      "503                West Bengal                 0.193689\n",
      "\n",
      "[504 rows x 2 columns]\n"
     ]
    }
   ],
   "source": [
    "print(merged_ratio[[\"State\", \"user_to_popultion_ratio\"]])"
   ]
  },
  {
   "cell_type": "code",
   "execution_count": 73,
   "id": "2a0158aa",
   "metadata": {},
   "outputs": [
    {
     "data": {
      "text/plain": [
       "<function matplotlib.pyplot.show(close=None, block=None)>"
      ]
     },
     "execution_count": 73,
     "metadata": {},
     "output_type": "execute_result"
    },
    {
     "data": {
      "image/png": "[encoded data removed]",
      "text/plain": [
       "<Figure size 640x480 with 1 Axes>"
      ]
     },
     "metadata": {},
     "output_type": "display_data"
    }
   ],
   "source": [
    "plt.Figure(figsize=(12, 6))\n",
    "plt.bar(merged_ratio['State'], merged_ratio['user_to_popultion_ratio'])\n",
    "plt.xticks(rotation=45, ha='right')\n",
    "plt.ylabel('User to population ratio')\n",
    "plt.title('Ratio of user to population by state')\n",
    "plt.tight_layout()\n",
    "plt.show"
   ]
  },
  {
   "cell_type": "markdown",
   "id": "e3410717",
   "metadata": {},
   "source": [
    "4.2 Correlate population density with transaction volumne"
   ]
  },
  {
   "cell_type": "code",
   "execution_count": 74,
   "id": "a4523f63",
   "metadata": {},
   "outputs": [],
   "source": [
    "merged_corr = combined_5.merge(combined_4, on='District', how='left')\n",
    "merged_corr['Population_density'] = merged_corr['Population'] / merged_corr['Area (sq km)']"
   ]
  },
  {
   "cell_type": "code",
   "execution_count": 75,
   "id": "fd26ea47",
   "metadata": {},
   "outputs": [
    {
     "name": "stdout",
     "output_type": "stream",
     "text": [
      "Correlation: 0.319\n"
     ]
    }
   ],
   "source": [
    "correlation = merged_corr['Population_density'].corr(merged_corr['Transactions'])\n",
    "print(f\"Correlation: {correlation:.3f}\")"
   ]
  },
  {
   "cell_type": "code",
   "execution_count": 76,
   "id": "ce0e2fcc",
   "metadata": {},
   "outputs": [
    {
     "data": {
      "image/png": "[encoded data removed]",
      "text/plain": [
       "<Figure size 1000x600 with 1 Axes>"
      ]
     },
     "metadata": {},
     "output_type": "display_data"
    }
   ],
   "source": [
    "plt.figure(figsize=(10, 6))\n",
    "sns.regplot(x= merged_corr['Population_density'], \n",
    "            y= merged_corr['Transactions'],\n",
    "            data= merged_corr,\n",
    "            scatter_kws={'alpha': 0.6},\n",
    "            line_kws={'color': 'red'}\n",
    ")\n",
    "plt.xlabel('Population Density (people per SQ km)')\n",
    "plt.ylabel('Transaction Vol')\n",
    "plt.title('Population Density vs Transation Vol')\n",
    "plt.grid(True)\n",
    "plt.tight_layout()\n",
    "plt.show()"
   ]
  },
  {
   "cell_type": "markdown",
   "id": "4e2d778a",
   "metadata": {},
   "source": [
    "4.3 Average transaction amount per user"
   ]
  },
  {
   "cell_type": "code",
   "execution_count": 77,
   "id": "85b1d821",
   "metadata": {},
   "outputs": [
    {
     "name": "stdout",
     "output_type": "stream",
     "text": [
      "\n",
      "Average Transaction Amount per User by State:\n",
      "                                   State  ATV (INR)\n",
      "0              Andaman & Nicobar Islands   173529.0\n",
      "17                                Ladakh   169014.0\n",
      "23                               Mizoram   139862.0\n",
      "2                      Arunachal Pradesh   138120.0\n",
      "18                           Lakshadweep   134622.0\n",
      "24                              Nagaland   127499.0\n",
      "22                             Meghalaya   114352.0\n",
      "21                               Manipur   114316.0\n",
      "29                                Sikkim   106490.0\n",
      "13                       Jammu & Kashmir   100858.0\n",
      "9                                    Goa    96876.0\n",
      "5                             Chandigarh    94225.0\n",
      "27                                Punjab    93661.0\n",
      "3                                  Assam    93300.0\n",
      "12                      Himachal Pradesh    91995.0\n",
      "11                               Haryana    83599.0\n",
      "10                               Gujarat    81960.0\n",
      "4                                  Bihar    81536.0\n",
      "26                            Puducherry    80965.0\n",
      "34                           Uttarakhand    80846.0\n",
      "30                            Tamil Nadu    79590.0\n",
      "6                           Chhattisgarh    79545.0\n",
      "32                               Tripura    79124.0\n",
      "8                                  Delhi    78545.0\n",
      "16                                Kerala    78135.0\n",
      "1                         Andhra Pradesh    78057.0\n",
      "7   Dadra & Nagar Haveli and Daman & Diu    77462.0\n",
      "31                             Telangana    76483.0\n",
      "14                             Jharkhand    76246.0\n",
      "28                             Rajasthan    75746.0\n",
      "15                             Karnataka    75559.0\n",
      "33                         Uttar Pradesh    75242.0\n",
      "20                           Maharashtra    75086.0\n",
      "19                        Madhya Pradesh    69590.0\n",
      "35                           West Bengal    62034.0\n",
      "25                                Odisha    59681.0\n"
     ]
    }
   ],
   "source": [
    "state_txn = combined_2.groupby('State')['ATV (INR)'].sum().reset_index()\n",
    "state_users = combined_1.groupby('State')['Registered Users'].sum().reset_index()\n",
    "\n",
    "state_avg_txn = state_txn.merge(state_users, on='State')\n",
    "\n",
    "print(\"\\nAverage Transaction Amount per User by State:\")\n",
    "print(state_avg_txn[['State', 'ATV (INR)']].sort_values(by='ATV (INR)', ascending=False))\n",
    "\n"
   ]
  },
  {
   "cell_type": "code",
   "execution_count": 78,
   "id": "c0b6080c",
   "metadata": {},
   "outputs": [
    {
     "name": "stdout",
     "output_type": "stream",
     "text": [
      "\n",
      "Top 5 States with Highest Average Transaction per User:\n",
      "                        State  ATV (INR)\n",
      "0   Andaman & Nicobar Islands   173529.0\n",
      "17                     Ladakh   169014.0\n",
      "23                    Mizoram   139862.0\n",
      "2           Arunachal Pradesh   138120.0\n",
      "18                Lakshadweep   134622.0\n",
      "\n",
      "Top 5 States with Lowest Average Transaction per User:\n",
      "             State  ATV (INR)\n",
      "25          Odisha    59681.0\n",
      "35     West Bengal    62034.0\n",
      "19  Madhya Pradesh    69590.0\n",
      "20     Maharashtra    75086.0\n",
      "33   Uttar Pradesh    75242.0\n"
     ]
    }
   ],
   "source": [
    "top_5_avg = state_avg_txn.nlargest(5, 'ATV (INR)')[['State', 'ATV (INR)']]\n",
    "print(\"\\nTop 5 States with Highest Average Transaction per User:\")\n",
    "print(top_5_avg)\n",
    "\n",
    "bottom_5_avg = state_avg_txn.nsmallest(5, 'ATV (INR)')[['State', 'ATV (INR)']]\n",
    "print(\"\\nTop 5 States with Lowest Average Transaction per User:\")\n",
    "print(bottom_5_avg)"
   ]
  },
  {
   "cell_type": "code",
   "execution_count": 79,
   "id": "83a49656",
   "metadata": {},
   "outputs": [
    {
     "data": {
      "image/png": "[encoded data removed]",
      "text/plain": [
       "<Figure size 1200x600 with 1 Axes>"
      ]
     },
     "metadata": {},
     "output_type": "display_data"
    }
   ],
   "source": [
    "plt.figure(figsize=(12, 6))\n",
    "plt.bar(state_avg_txn['State'], state_avg_txn['ATV (INR)'], color = 'mediumseagreen')\n",
    "plt.xticks(rotation = 45, ha = 'right')\n",
    "plt.ylabel('Average Transactions per users')\n",
    "plt.title('Average Transactions per user by State')\n",
    "plt.tight_layout()\n",
    "plt.show()"
   ]
  },
  {
   "cell_type": "markdown",
   "id": "1f5b1ba6",
   "metadata": {},
   "source": [
    "4.4 Device brand usage ratio"
   ]
  },
  {
   "cell_type": "code",
   "execution_count": 80,
   "id": "53849fe0",
   "metadata": {},
   "outputs": [],
   "source": [
    "device_brand_users = combined_3.groupby(['State', 'Brand'])['Registered Users'].sum().reset_index()\n",
    "state_users = combined_1.groupby('State')['Registered Users'].sum().reset_index()\n",
    "\n",
    "state_users.rename(columns={'Registered Users': 'total_users'}, inplace=True)\n",
    "\n",
    "merged_Device_ratio = device_brand_users.merge(state_users, on='State')\n",
    "\n",
    "merged_Device_ratio['device_ratio'] = merged_Device_ratio['Registered Users'] / merged_Device_ratio['total_users']"
   ]
  },
  {
   "cell_type": "code",
   "execution_count": 81,
   "id": "957f5b94",
   "metadata": {},
   "outputs": [
    {
     "name": "stdout",
     "output_type": "stream",
     "text": [
      "                         State     Brand  device_ratio\n",
      "11   Andaman & Nicobar Islands    Xiaomi      0.239691\n",
      "10   Andaman & Nicobar Islands      Vivo      0.216476\n",
      "8    Andaman & Nicobar Islands   Samsung      0.188702\n",
      "5    Andaman & Nicobar Islands      Oppo      0.088167\n",
      "6    Andaman & Nicobar Islands    Others      0.082347\n",
      "..                         ...       ...           ...\n",
      "436                West Bengal      Asus      0.019242\n",
      "438                West Bengal    Huawei      0.015528\n",
      "440                West Bengal  Micromax      0.013734\n",
      "437                West Bengal    Gionee      0.001433\n",
      "435                West Bengal     Apple      0.001396\n",
      "\n",
      "[448 rows x 3 columns]\n"
     ]
    }
   ],
   "source": [
    "result_table = merged_Device_ratio[['State', 'Brand', 'device_ratio']]\n",
    "print(result_table.sort_values(by=['State', 'device_ratio'], ascending=[True, False]))"
   ]
  },
  {
   "cell_type": "code",
   "execution_count": 82,
   "id": "e4cc2fa1",
   "metadata": {},
   "outputs": [
    {
     "data": {
      "image/png": "[encoded data removed]",
      "text/plain": [
       "<Figure size 640x480 with 1 Axes>"
      ]
     },
     "metadata": {},
     "output_type": "display_data"
    }
   ],
   "source": [
    "plt.Figure(figsize=(12, 6))\n",
    "sns.barplot(data=result_table, x='State', y='device_ratio', hue='device_ratio')\n",
    "plt.xticks(rotation=45, ha='right')\n",
    "plt.ylabel('Device brand usage ratio (%)')\n",
    "plt.title('device brand users ratio by state')\n",
    "plt.tight_layout()\n",
    "plt.show()"
   ]
  },
  {
   "cell_type": "markdown",
   "id": "2b24f830",
   "metadata": {},
   "source": [
    "5. Data Visulization"
   ]
  },
  {
   "cell_type": "markdown",
   "id": "0b524ffc",
   "metadata": {},
   "source": [
    "5.1 plot the total transactions and amount over time for selected states"
   ]
  },
  {
   "cell_type": "code",
   "execution_count": 94,
   "id": "e60f4680",
   "metadata": {},
   "outputs": [],
   "source": [
    "def plt_txn_state(combined_1, state_name):\n",
    "    filtered = combined_1[combined_1['State'] == state_name].copy()\n",
    "    filtered['Year_Quarter'] = filtered['Year'].astype('Int64').astype(str) + 'Q' + filtered['Quarter'].astype('Int64').astype(str)\n",
    "    yearly_totals = filtered.groupby('Year_Quarter')['Transactions'].sum().reset_index()\n",
    "    yearly_totals.sort_values(by='Year_Quarter', inplace=True)\n",
    "\n",
    "    return yearly_totals    "
   ]
  },
  {
   "cell_type": "code",
   "execution_count": 95,
   "id": "6a277ac1",
   "metadata": {},
   "outputs": [
    {
     "data": {
      "image/png": "[encoded data removed]",
      "text/plain": [
       "<Figure size 1000x500 with 1 Axes>"
      ]
     },
     "metadata": {},
     "output_type": "display_data"
    }
   ],
   "source": [
    "yearly_totals = plt_txn_state(combined_1, 'Maharashtra')\n",
    "\n",
    "plt.figure(figsize=(10, 5))\n",
    "plt.plot(yearly_totals['Year_Quarter'], yearly_totals['Transactions'], marker = 'o', color = 'blue')\n",
    "plt.title(f'Average Transactions over time: {'Maharashtra'}')\n",
    "plt.xlabel('Year')\n",
    "plt.ylabel('ATV (INR)')\n",
    "plt.xticks(rotation = 45)\n",
    "plt.grid(True)\n",
    "plt.tight_layout()\n",
    "plt.show()"
   ]
  },
  {
   "cell_type": "markdown",
   "id": "1993fcb4",
   "metadata": {},
   "source": [
    "5.2 Pie chart for distribution of transaction types for a specific quarter"
   ]
  },
  {
   "cell_type": "code",
   "execution_count": 96,
   "id": "9c48d4f1",
   "metadata": {},
   "outputs": [
    {
     "data": {
      "application/vnd.microsoft.datawrangler.viewer.v0+json": {
       "columns": [
        {
         "name": "index",
         "rawType": "int64",
         "type": "integer"
        },
        {
         "name": "State",
         "rawType": "object",
         "type": "string"
        },
        {
         "name": "Year",
         "rawType": "float64",
         "type": "float"
        },
        {
         "name": "Quarter",
         "rawType": "float64",
         "type": "float"
        },
        {
         "name": "Transaction Type",
         "rawType": "object",
         "type": "string"
        },
        {
         "name": "Transactions",
         "rawType": "float64",
         "type": "float"
        },
        {
         "name": "Amount (INR)",
         "rawType": "float64",
         "type": "float"
        },
        {
         "name": "ATV (INR)",
         "rawType": "float64",
         "type": "float"
        }
       ],
       "ref": "1461e8de-2ec3-45a4-b08e-95b3f12f8299",
       "rows": [
        [
         "1454",
         "Maharashtra",
         "2021.0",
         "1.0",
         "Merchant payments",
         "253043309.0",
         "129493046208.0",
         "512.0"
        ],
        [
         "1455",
         "Maharashtra",
         "2021.0",
         "1.0",
         "Peer-to-peer payments",
         "187021609.0",
         "599213284362.0",
         "3204.0"
        ],
        [
         "1456",
         "Maharashtra",
         "2021.0",
         "1.0",
         "Recharge & bill payments",
         "76389103.0",
         "40057211827.0",
         "524.0"
        ],
        [
         "1457",
         "Maharashtra",
         "2021.0",
         "1.0",
         "Financial Services",
         "439551.0",
         "492900203.0",
         "1121.0"
        ],
        [
         "1458",
         "Maharashtra",
         "2021.0",
         "1.0",
         "Others",
         "966668.0",
         "630909553.0",
         "653.0"
        ]
       ],
       "shape": {
        "columns": 7,
        "rows": 5
       }
      },
      "text/html": [
       "<div>\n",
       "<style scoped>\n",
       "    .dataframe tbody tr th:only-of-type {\n",
       "        vertical-align: middle;\n",
       "    }\n",
       "\n",
       "    .dataframe tbody tr th {\n",
       "        vertical-align: top;\n",
       "    }\n",
       "\n",
       "    .dataframe thead th {\n",
       "        text-align: right;\n",
       "    }\n",
       "</style>\n",
       "<table border=\"1\" class=\"dataframe\">\n",
       "  <thead>\n",
       "    <tr style=\"text-align: right;\">\n",
       "      <th></th>\n",
       "      <th>State</th>\n",
       "      <th>Year</th>\n",
       "      <th>Quarter</th>\n",
       "      <th>Transaction Type</th>\n",
       "      <th>Transactions</th>\n",
       "      <th>Amount (INR)</th>\n",
       "      <th>ATV (INR)</th>\n",
       "    </tr>\n",
       "  </thead>\n",
       "  <tbody>\n",
       "    <tr>\n",
       "      <th>1454</th>\n",
       "      <td>Maharashtra</td>\n",
       "      <td>2021.0</td>\n",
       "      <td>1.0</td>\n",
       "      <td>Merchant payments</td>\n",
       "      <td>253043309.0</td>\n",
       "      <td>1.294930e+11</td>\n",
       "      <td>512.0</td>\n",
       "    </tr>\n",
       "    <tr>\n",
       "      <th>1455</th>\n",
       "      <td>Maharashtra</td>\n",
       "      <td>2021.0</td>\n",
       "      <td>1.0</td>\n",
       "      <td>Peer-to-peer payments</td>\n",
       "      <td>187021609.0</td>\n",
       "      <td>5.992133e+11</td>\n",
       "      <td>3204.0</td>\n",
       "    </tr>\n",
       "    <tr>\n",
       "      <th>1456</th>\n",
       "      <td>Maharashtra</td>\n",
       "      <td>2021.0</td>\n",
       "      <td>1.0</td>\n",
       "      <td>Recharge &amp; bill payments</td>\n",
       "      <td>76389103.0</td>\n",
       "      <td>4.005721e+10</td>\n",
       "      <td>524.0</td>\n",
       "    </tr>\n",
       "    <tr>\n",
       "      <th>1457</th>\n",
       "      <td>Maharashtra</td>\n",
       "      <td>2021.0</td>\n",
       "      <td>1.0</td>\n",
       "      <td>Financial Services</td>\n",
       "      <td>439551.0</td>\n",
       "      <td>4.929002e+08</td>\n",
       "      <td>1121.0</td>\n",
       "    </tr>\n",
       "    <tr>\n",
       "      <th>1458</th>\n",
       "      <td>Maharashtra</td>\n",
       "      <td>2021.0</td>\n",
       "      <td>1.0</td>\n",
       "      <td>Others</td>\n",
       "      <td>966668.0</td>\n",
       "      <td>6.309096e+08</td>\n",
       "      <td>653.0</td>\n",
       "    </tr>\n",
       "  </tbody>\n",
       "</table>\n",
       "</div>"
      ],
      "text/plain": [
       "            State    Year  Quarter          Transaction Type  Transactions  \\\n",
       "1454  Maharashtra  2021.0      1.0         Merchant payments   253043309.0   \n",
       "1455  Maharashtra  2021.0      1.0     Peer-to-peer payments   187021609.0   \n",
       "1456  Maharashtra  2021.0      1.0  Recharge & bill payments    76389103.0   \n",
       "1457  Maharashtra  2021.0      1.0        Financial Services      439551.0   \n",
       "1458  Maharashtra  2021.0      1.0                    Others      966668.0   \n",
       "\n",
       "      Amount (INR)  ATV (INR)  \n",
       "1454  1.294930e+11      512.0  \n",
       "1455  5.992133e+11     3204.0  \n",
       "1456  4.005721e+10      524.0  \n",
       "1457  4.929002e+08     1121.0  \n",
       "1458  6.309096e+08      653.0  "
      ]
     },
     "execution_count": 96,
     "metadata": {},
     "output_type": "execute_result"
    }
   ],
   "source": [
    "selected_state = 'Maharashtra'\n",
    "selected_year = 2021\n",
    "selected_quarter = 1\n",
    "\n",
    "selected_quarter_data = combined_2[(combined_2['State'] == selected_state) &\n",
    "                                   (combined_2['Year'] == selected_year) &\n",
    "                                   (combined_2['Quarter'] == selected_quarter)]\n",
    "\n",
    "selected_quarter_data"
   ]
  },
  {
   "cell_type": "code",
   "execution_count": 99,
   "id": "2184bd87",
   "metadata": {},
   "outputs": [
    {
     "data": {
      "application/vnd.microsoft.datawrangler.viewer.v0+json": {
       "columns": [
        {
         "name": "index",
         "rawType": "int64",
         "type": "integer"
        },
        {
         "name": "Transaction Type",
         "rawType": "object",
         "type": "string"
        },
        {
         "name": "Transactions",
         "rawType": "float64",
         "type": "float"
        }
       ],
       "ref": "c85f524e-34e8-4f9a-bd39-e014e61320b8",
       "rows": [
        [
         "0",
         "Financial Services",
         "439551.0"
        ],
        [
         "1",
         "Merchant payments",
         "253043309.0"
        ],
        [
         "2",
         "Others",
         "966668.0"
        ],
        [
         "3",
         "Peer-to-peer payments",
         "187021609.0"
        ],
        [
         "4",
         "Recharge & bill payments",
         "76389103.0"
        ]
       ],
       "shape": {
        "columns": 2,
        "rows": 5
       }
      },
      "text/html": [
       "<div>\n",
       "<style scoped>\n",
       "    .dataframe tbody tr th:only-of-type {\n",
       "        vertical-align: middle;\n",
       "    }\n",
       "\n",
       "    .dataframe tbody tr th {\n",
       "        vertical-align: top;\n",
       "    }\n",
       "\n",
       "    .dataframe thead th {\n",
       "        text-align: right;\n",
       "    }\n",
       "</style>\n",
       "<table border=\"1\" class=\"dataframe\">\n",
       "  <thead>\n",
       "    <tr style=\"text-align: right;\">\n",
       "      <th></th>\n",
       "      <th>Transaction Type</th>\n",
       "      <th>Transactions</th>\n",
       "    </tr>\n",
       "  </thead>\n",
       "  <tbody>\n",
       "    <tr>\n",
       "      <th>0</th>\n",
       "      <td>Financial Services</td>\n",
       "      <td>439551.0</td>\n",
       "    </tr>\n",
       "    <tr>\n",
       "      <th>1</th>\n",
       "      <td>Merchant payments</td>\n",
       "      <td>253043309.0</td>\n",
       "    </tr>\n",
       "    <tr>\n",
       "      <th>2</th>\n",
       "      <td>Others</td>\n",
       "      <td>966668.0</td>\n",
       "    </tr>\n",
       "    <tr>\n",
       "      <th>3</th>\n",
       "      <td>Peer-to-peer payments</td>\n",
       "      <td>187021609.0</td>\n",
       "    </tr>\n",
       "    <tr>\n",
       "      <th>4</th>\n",
       "      <td>Recharge &amp; bill payments</td>\n",
       "      <td>76389103.0</td>\n",
       "    </tr>\n",
       "  </tbody>\n",
       "</table>\n",
       "</div>"
      ],
      "text/plain": [
       "           Transaction Type  Transactions\n",
       "0        Financial Services      439551.0\n",
       "1         Merchant payments   253043309.0\n",
       "2                    Others      966668.0\n",
       "3     Peer-to-peer payments   187021609.0\n",
       "4  Recharge & bill payments    76389103.0"
      ]
     },
     "execution_count": 99,
     "metadata": {},
     "output_type": "execute_result"
    }
   ],
   "source": [
    "txn_type_distribution = selected_quarter_data.groupby('Transaction Type').agg({\n",
    "    'Transactions': 'sum'\n",
    "}).reset_index()\n",
    "\n",
    "txn_type_distribution"
   ]
  },
  {
   "cell_type": "code",
   "execution_count": 101,
   "id": "6053228e",
   "metadata": {},
   "outputs": [
    {
     "data": {
      "image/png": "[encoded data removed]",
      "text/plain": [
       "<Figure size 600x400 with 1 Axes>"
      ]
     },
     "metadata": {},
     "output_type": "display_data"
    }
   ],
   "source": [
    "plt.figure(figsize=(6, 4))\n",
    "plt.pie(txn_type_distribution['Transactions'], labels=txn_type_distribution['Transaction Type'], autopct='%1.1f%%', startangle=140)\n",
    "plt.title(f'Distribution of transactions types for {selected_state} in {selected_year} Q {selected_quarter}')\n",
    "plt.axis('equal')\n",
    "plt.show()"
   ]
  },
  {
   "cell_type": "markdown",
   "id": "44d95252",
   "metadata": {},
   "source": [
    "5.3 Visualize population density of districts in selected state"
   ]
  },
  {
   "cell_type": "code",
   "execution_count": 102,
   "id": "ae91e22e",
   "metadata": {},
   "outputs": [
    {
     "data": {
      "application/vnd.microsoft.datawrangler.viewer.v0+json": {
       "columns": [
        {
         "name": "index",
         "rawType": "int64",
         "type": "integer"
        },
        {
         "name": "State",
         "rawType": "object",
         "type": "string"
        },
        {
         "name": "District",
         "rawType": "object",
         "type": "string"
        },
        {
         "name": "Headquarters",
         "rawType": "object",
         "type": "string"
        },
        {
         "name": "Code",
         "rawType": "object",
         "type": "string"
        },
        {
         "name": "Alternate Name",
         "rawType": "object",
         "type": "string"
        },
        {
         "name": "Population",
         "rawType": "float64",
         "type": "float"
        },
        {
         "name": "Area (sq km)",
         "rawType": "float64",
         "type": "float"
        },
        {
         "name": "Density",
         "rawType": "float64",
         "type": "float"
        }
       ],
       "ref": "d88649ed-f675-4791-964f-54c38ceed3d0",
       "rows": [
        [
         "724",
         "Ladakh",
         "Kargil",
         "Kargil",
         "LA01",
         "Kargil",
         "143388.0",
         "14036.0",
         "10.0"
        ],
        [
         "725",
         "Ladakh",
         "Leh",
         "Leh",
         "LA02",
         "Leh Ladakh",
         "133487.0",
         "45110.0",
         "3.0"
        ]
       ],
       "shape": {
        "columns": 8,
        "rows": 2
       }
      },
      "text/html": [
       "<div>\n",
       "<style scoped>\n",
       "    .dataframe tbody tr th:only-of-type {\n",
       "        vertical-align: middle;\n",
       "    }\n",
       "\n",
       "    .dataframe tbody tr th {\n",
       "        vertical-align: top;\n",
       "    }\n",
       "\n",
       "    .dataframe thead th {\n",
       "        text-align: right;\n",
       "    }\n",
       "</style>\n",
       "<table border=\"1\" class=\"dataframe\">\n",
       "  <thead>\n",
       "    <tr style=\"text-align: right;\">\n",
       "      <th></th>\n",
       "      <th>State</th>\n",
       "      <th>District</th>\n",
       "      <th>Headquarters</th>\n",
       "      <th>Code</th>\n",
       "      <th>Alternate Name</th>\n",
       "      <th>Population</th>\n",
       "      <th>Area (sq km)</th>\n",
       "      <th>Density</th>\n",
       "    </tr>\n",
       "  </thead>\n",
       "  <tbody>\n",
       "    <tr>\n",
       "      <th>724</th>\n",
       "      <td>Ladakh</td>\n",
       "      <td>Kargil</td>\n",
       "      <td>Kargil</td>\n",
       "      <td>LA01</td>\n",
       "      <td>Kargil</td>\n",
       "      <td>143388.0</td>\n",
       "      <td>14036.0</td>\n",
       "      <td>10.0</td>\n",
       "    </tr>\n",
       "    <tr>\n",
       "      <th>725</th>\n",
       "      <td>Ladakh</td>\n",
       "      <td>Leh</td>\n",
       "      <td>Leh</td>\n",
       "      <td>LA02</td>\n",
       "      <td>Leh Ladakh</td>\n",
       "      <td>133487.0</td>\n",
       "      <td>45110.0</td>\n",
       "      <td>3.0</td>\n",
       "    </tr>\n",
       "  </tbody>\n",
       "</table>\n",
       "</div>"
      ],
      "text/plain": [
       "      State District Headquarters  Code Alternate Name  Population  \\\n",
       "724  Ladakh   Kargil       Kargil  LA01         Kargil    143388.0   \n",
       "725  Ladakh      Leh          Leh  LA02     Leh Ladakh    133487.0   \n",
       "\n",
       "     Area (sq km)  Density  \n",
       "724       14036.0     10.0  \n",
       "725       45110.0      3.0  "
      ]
     },
     "execution_count": 102,
     "metadata": {},
     "output_type": "execute_result"
    }
   ],
   "source": [
    "selected_state = \"Ladakh\"\n",
    "state_population_density = combined_5[combined_5['State'] == selected_state]\n",
    "\n",
    "state_population_density"
   ]
  },
  {
   "cell_type": "code",
   "execution_count": 103,
   "id": "43f1343a",
   "metadata": {},
   "outputs": [
    {
     "data": {
      "image/png": "[encoded data removed]",
      "text/plain": [
       "<Figure size 640x480 with 1 Axes>"
      ]
     },
     "metadata": {},
     "output_type": "display_data"
    }
   ],
   "source": [
    "plt.Figure(figsize=(14, 8))\n",
    "plt.bar(state_population_density['District'], state_population_density['Density'])\n",
    "plt.xlabel('District')\n",
    "plt.ylabel('Population Density')\n",
    "plt.title(f'Population Density of District in {selected_state}')\n",
    "plt.xticks(rotation=90)\n",
    "plt.grid(True)\n",
    "plt.show()"
   ]
  },
  {
   "cell_type": "markdown",
   "id": "78e7452c",
   "metadata": {},
   "source": [
    "6. Insight and Conclusion"
   ]
  },
  {
   "cell_type": "markdown",
   "id": "6bf3e13b",
   "metadata": {},
   "source": [
    "6.1 Identify any trends or patters in the transaction data"
   ]
  },
  {
   "cell_type": "code",
   "execution_count": 104,
   "id": "b6692ec2",
   "metadata": {},
   "outputs": [
    {
     "name": "stdout",
     "output_type": "stream",
     "text": [
      "Transactions trends over the years:\n"
     ]
    },
    {
     "data": {
      "application/vnd.microsoft.datawrangler.viewer.v0+json": {
       "columns": [
        {
         "name": "index",
         "rawType": "int64",
         "type": "integer"
        },
        {
         "name": "Year",
         "rawType": "float64",
         "type": "float"
        },
        {
         "name": "Transactions",
         "rawType": "float64",
         "type": "float"
        },
        {
         "name": "Amount (INR)",
         "rawType": "float64",
         "type": "float"
        }
       ],
       "ref": "2a371d96-42a2-4c8d-8185-c8446515b870",
       "rows": [
        [
         "0",
         "2018.0",
         "1080202410.0",
         "1623045396422.0"
        ],
        [
         "1",
         "2019.0",
         "4079827215.0",
         "6276688133187.0"
        ],
        [
         "2",
         "2020.0",
         "7973974741.0",
         "14641161978058.0"
        ],
        [
         "3",
         "2021.0",
         "7398955928.0",
         "13088264754937.0"
        ]
       ],
       "shape": {
        "columns": 3,
        "rows": 4
       }
      },
      "text/html": [
       "<div>\n",
       "<style scoped>\n",
       "    .dataframe tbody tr th:only-of-type {\n",
       "        vertical-align: middle;\n",
       "    }\n",
       "\n",
       "    .dataframe tbody tr th {\n",
       "        vertical-align: top;\n",
       "    }\n",
       "\n",
       "    .dataframe thead th {\n",
       "        text-align: right;\n",
       "    }\n",
       "</style>\n",
       "<table border=\"1\" class=\"dataframe\">\n",
       "  <thead>\n",
       "    <tr style=\"text-align: right;\">\n",
       "      <th></th>\n",
       "      <th>Year</th>\n",
       "      <th>Transactions</th>\n",
       "      <th>Amount (INR)</th>\n",
       "    </tr>\n",
       "  </thead>\n",
       "  <tbody>\n",
       "    <tr>\n",
       "      <th>0</th>\n",
       "      <td>2018.0</td>\n",
       "      <td>1.080202e+09</td>\n",
       "      <td>1.623045e+12</td>\n",
       "    </tr>\n",
       "    <tr>\n",
       "      <th>1</th>\n",
       "      <td>2019.0</td>\n",
       "      <td>4.079827e+09</td>\n",
       "      <td>6.276688e+12</td>\n",
       "    </tr>\n",
       "    <tr>\n",
       "      <th>2</th>\n",
       "      <td>2020.0</td>\n",
       "      <td>7.973975e+09</td>\n",
       "      <td>1.464116e+13</td>\n",
       "    </tr>\n",
       "    <tr>\n",
       "      <th>3</th>\n",
       "      <td>2021.0</td>\n",
       "      <td>7.398956e+09</td>\n",
       "      <td>1.308826e+13</td>\n",
       "    </tr>\n",
       "  </tbody>\n",
       "</table>\n",
       "</div>"
      ],
      "text/plain": [
       "     Year  Transactions  Amount (INR)\n",
       "0  2018.0  1.080202e+09  1.623045e+12\n",
       "1  2019.0  4.079827e+09  6.276688e+12\n",
       "2  2020.0  7.973975e+09  1.464116e+13\n",
       "3  2021.0  7.398956e+09  1.308826e+13"
      ]
     },
     "execution_count": 104,
     "metadata": {},
     "output_type": "execute_result"
    }
   ],
   "source": [
    "Transaction_trend = combined_1.groupby(['Year']).agg({\n",
    "    'Transactions': 'sum',\n",
    "    'Amount (INR)': 'sum'\n",
    "}).reset_index()\n",
    "\n",
    "print(\"Transactions trends over the years:\")\n",
    "\n",
    "Transaction_trend"
   ]
  },
  {
   "cell_type": "code",
   "execution_count": 105,
   "id": "486cad17",
   "metadata": {},
   "outputs": [
    {
     "name": "stdout",
     "output_type": "stream",
     "text": [
      "Summary of transactions trends:\n"
     ]
    },
    {
     "data": {
      "application/vnd.microsoft.datawrangler.viewer.v0+json": {
       "columns": [
        {
         "name": "index",
         "rawType": "object",
         "type": "string"
        },
        {
         "name": "Year",
         "rawType": "float64",
         "type": "float"
        },
        {
         "name": "Transactions",
         "rawType": "float64",
         "type": "float"
        },
        {
         "name": "Amount (INR)",
         "rawType": "float64",
         "type": "float"
        }
       ],
       "ref": "dd89a44a-f8a9-4d55-8f8b-8590baab47bb",
       "rows": [
        [
         "count",
         "4.0",
         "4.0",
         "4.0"
        ],
        [
         "mean",
         "2019.5",
         "5133240073.5",
         "8907290065651.0"
        ],
        [
         "std",
         "1.2909944487358056",
         "3201043305.792227",
         "6064600107416.11"
        ],
        [
         "min",
         "2018.0",
         "1080202410.0",
         "1623045396422.0"
        ],
        [
         "25%",
         "2018.75",
         "3329921013.75",
         "5113277448995.75"
        ],
        [
         "50%",
         "2019.5",
         "5739391571.5",
         "9682476444062.0"
        ],
        [
         "75%",
         "2020.25",
         "7542710631.25",
         "13476489060717.25"
        ],
        [
         "max",
         "2021.0",
         "7973974741.0",
         "14641161978058.0"
        ]
       ],
       "shape": {
        "columns": 3,
        "rows": 8
       }
      },
      "text/html": [
       "<div>\n",
       "<style scoped>\n",
       "    .dataframe tbody tr th:only-of-type {\n",
       "        vertical-align: middle;\n",
       "    }\n",
       "\n",
       "    .dataframe tbody tr th {\n",
       "        vertical-align: top;\n",
       "    }\n",
       "\n",
       "    .dataframe thead th {\n",
       "        text-align: right;\n",
       "    }\n",
       "</style>\n",
       "<table border=\"1\" class=\"dataframe\">\n",
       "  <thead>\n",
       "    <tr style=\"text-align: right;\">\n",
       "      <th></th>\n",
       "      <th>Year</th>\n",
       "      <th>Transactions</th>\n",
       "      <th>Amount (INR)</th>\n",
       "    </tr>\n",
       "  </thead>\n",
       "  <tbody>\n",
       "    <tr>\n",
       "      <th>count</th>\n",
       "      <td>4.000000</td>\n",
       "      <td>4.000000e+00</td>\n",
       "      <td>4.000000e+00</td>\n",
       "    </tr>\n",
       "    <tr>\n",
       "      <th>mean</th>\n",
       "      <td>2019.500000</td>\n",
       "      <td>5.133240e+09</td>\n",
       "      <td>8.907290e+12</td>\n",
       "    </tr>\n",
       "    <tr>\n",
       "      <th>std</th>\n",
       "      <td>1.290994</td>\n",
       "      <td>3.201043e+09</td>\n",
       "      <td>6.064600e+12</td>\n",
       "    </tr>\n",
       "    <tr>\n",
       "      <th>min</th>\n",
       "      <td>2018.000000</td>\n",
       "      <td>1.080202e+09</td>\n",
       "      <td>1.623045e+12</td>\n",
       "    </tr>\n",
       "    <tr>\n",
       "      <th>25%</th>\n",
       "      <td>2018.750000</td>\n",
       "      <td>3.329921e+09</td>\n",
       "      <td>5.113277e+12</td>\n",
       "    </tr>\n",
       "    <tr>\n",
       "      <th>50%</th>\n",
       "      <td>2019.500000</td>\n",
       "      <td>5.739392e+09</td>\n",
       "      <td>9.682476e+12</td>\n",
       "    </tr>\n",
       "    <tr>\n",
       "      <th>75%</th>\n",
       "      <td>2020.250000</td>\n",
       "      <td>7.542711e+09</td>\n",
       "      <td>1.347649e+13</td>\n",
       "    </tr>\n",
       "    <tr>\n",
       "      <th>max</th>\n",
       "      <td>2021.000000</td>\n",
       "      <td>7.973975e+09</td>\n",
       "      <td>1.464116e+13</td>\n",
       "    </tr>\n",
       "  </tbody>\n",
       "</table>\n",
       "</div>"
      ],
      "text/plain": [
       "              Year  Transactions  Amount (INR)\n",
       "count     4.000000  4.000000e+00  4.000000e+00\n",
       "mean   2019.500000  5.133240e+09  8.907290e+12\n",
       "std       1.290994  3.201043e+09  6.064600e+12\n",
       "min    2018.000000  1.080202e+09  1.623045e+12\n",
       "25%    2018.750000  3.329921e+09  5.113277e+12\n",
       "50%    2019.500000  5.739392e+09  9.682476e+12\n",
       "75%    2020.250000  7.542711e+09  1.347649e+13\n",
       "max    2021.000000  7.973975e+09  1.464116e+13"
      ]
     },
     "execution_count": 105,
     "metadata": {},
     "output_type": "execute_result"
    }
   ],
   "source": [
    "Transaction_trend_sum = Transaction_trend.describe()\n",
    "print(\"Summary of transactions trends:\")\n",
    "Transaction_trend_sum"
   ]
  },
  {
   "cell_type": "markdown",
   "id": "6a553c94",
   "metadata": {},
   "source": [
    "6.2 Correlate demographic data with transaction data"
   ]
  },
  {
   "cell_type": "code",
   "execution_count": 106,
   "id": "8c522ae4",
   "metadata": {},
   "outputs": [
    {
     "data": {
      "application/vnd.microsoft.datawrangler.viewer.v0+json": {
       "columns": [
        {
         "name": "index",
         "rawType": "int64",
         "type": "integer"
        },
        {
         "name": "State",
         "rawType": "object",
         "type": "string"
        },
        {
         "name": "Year",
         "rawType": "int64",
         "type": "integer"
        },
        {
         "name": "Quarter",
         "rawType": "int64",
         "type": "integer"
        },
        {
         "name": "District",
         "rawType": "object",
         "type": "string"
        },
        {
         "name": "Code",
         "rawType": "object",
         "type": "string"
        },
        {
         "name": "Transactions",
         "rawType": "int64",
         "type": "integer"
        },
        {
         "name": "Amount (INR)",
         "rawType": "int64",
         "type": "integer"
        },
        {
         "name": "ATV (INR)",
         "rawType": "float64",
         "type": "float"
        },
        {
         "name": "Registered Users",
         "rawType": "int64",
         "type": "integer"
        },
        {
         "name": "App Opens",
         "rawType": "int64",
         "type": "integer"
        },
        {
         "name": "Headquarters",
         "rawType": "object",
         "type": "string"
        },
        {
         "name": "Alternate Name",
         "rawType": "object",
         "type": "string"
        },
        {
         "name": "Population",
         "rawType": "float64",
         "type": "float"
        },
        {
         "name": "Area (sq km)",
         "rawType": "float64",
         "type": "float"
        },
        {
         "name": "Density",
         "rawType": "float64",
         "type": "float"
        }
       ],
       "ref": "c011ee27-6514-4de2-995c-7f661c904bd1",
       "rows": [
        [
         "0",
         "Andaman & Nicobar Islands",
         "2018",
         "1",
         "South Andaman",
         "AN03",
         "5688",
         "12560249",
         "2208.0",
         "5846",
         "0",
         "Port Blair",
         "South Andaman",
         "238142.0",
         "2672.0",
         "89.0"
        ],
        [
         "1",
         "Andaman & Nicobar Islands",
         "2018",
         "2",
         "South Andaman",
         "AN03",
         "9395",
         "23948236",
         "2549.0",
         "8143",
         "0",
         "Port Blair",
         "South Andaman",
         "238142.0",
         "2672.0",
         "89.0"
        ],
        [
         "2",
         "Andaman & Nicobar Islands",
         "2018",
         "3",
         "South Andaman",
         "AN03",
         "13511",
         "44268112",
         "3276.0",
         "10474",
         "0",
         "Port Blair",
         "South Andaman",
         "238142.0",
         "2672.0",
         "89.0"
        ],
        [
         "3",
         "Andaman & Nicobar Islands",
         "2018",
         "4",
         "South Andaman",
         "AN03",
         "20136",
         "75411841",
         "3745.0",
         "13133",
         "0",
         "Port Blair",
         "South Andaman",
         "238142.0",
         "2672.0",
         "89.0"
        ],
        [
         "4",
         "Andaman & Nicobar Islands",
         "2019",
         "1",
         "South Andaman",
         "AN03",
         "25683",
         "85501972",
         "3329.0",
         "15961",
         "0",
         "Port Blair",
         "South Andaman",
         "238142.0",
         "2672.0",
         "89.0"
        ],
        [
         "5",
         "Andaman & Nicobar Islands",
         "2019",
         "2",
         "South Andaman",
         "AN03",
         "28490",
         "102530956",
         "3599.0",
         "18621",
         "43569",
         "Port Blair",
         "South Andaman",
         "238142.0",
         "2672.0",
         "89.0"
        ],
        [
         "6",
         "Andaman & Nicobar Islands",
         "2019",
         "3",
         "South Andaman",
         "AN03",
         "27421",
         "91023888",
         "3319.0",
         "20518",
         "138190",
         "Port Blair",
         "South Andaman",
         "238142.0",
         "2672.0",
         "89.0"
        ],
        [
         "7",
         "Andaman & Nicobar Islands",
         "2019",
         "4",
         "South Andaman",
         "AN03",
         "27843",
         "110930312",
         "3984.0",
         "22202",
         "139646",
         "Port Blair",
         "South Andaman",
         "238142.0",
         "2672.0",
         "89.0"
        ],
        [
         "8",
         "Andaman & Nicobar Islands",
         "2020",
         "1",
         "South Andaman",
         "AN03",
         "32713",
         "134679397",
         "4117.0",
         "24174",
         "151529",
         "Port Blair",
         "South Andaman",
         "238142.0",
         "2672.0",
         "89.0"
        ],
        [
         "9",
         "Andaman & Nicobar Islands",
         "2020",
         "2",
         "South Andaman",
         "AN03",
         "48088",
         "132855779",
         "2763.0",
         "27626",
         "231071",
         "Port Blair",
         "South Andaman",
         "238142.0",
         "2672.0",
         "89.0"
        ],
        [
         "10",
         "Andaman & Nicobar Islands",
         "2020",
         "3",
         "South Andaman",
         "AN03",
         "95323",
         "282366109",
         "2962.0",
         "34833",
         "417785",
         "Port Blair",
         "South Andaman",
         "238142.0",
         "2672.0",
         "89.0"
        ],
        [
         "11",
         "Andaman & Nicobar Islands",
         "2020",
         "4",
         "South Andaman",
         "AN03",
         "186494",
         "523122463",
         "2805.0",
         "43908",
         "725321",
         "Port Blair",
         "South Andaman",
         "238142.0",
         "2672.0",
         "89.0"
        ],
        [
         "12",
         "Andaman & Nicobar Islands",
         "2021",
         "1",
         "South Andaman",
         "AN03",
         "207092",
         "669604045",
         "3233.0",
         "48352",
         "837589",
         "Port Blair",
         "South Andaman",
         "238142.0",
         "2672.0",
         "89.0"
        ],
        [
         "13",
         "Andaman & Nicobar Islands",
         "2021",
         "2",
         "South Andaman",
         "AN03",
         "286907",
         "760893021",
         "2652.0",
         "51903",
         "1270226",
         "Port Blair",
         "South Andaman",
         "238142.0",
         "2672.0",
         "89.0"
        ],
        [
         "14",
         "Andhra Pradesh",
         "2018",
         "1",
         "Anantapur",
         "AP01",
         "638664",
         "788830646",
         "1235.0",
         "241192",
         "0",
         "Anantapur",
         "Anantapur",
         "4083315.0",
         "19130.0",
         "213.0"
        ],
        [
         "15",
         "Andhra Pradesh",
         "2018",
         "1",
         "Chittoor",
         "AP02",
         "830324",
         "1009621878",
         "1216.0",
         "309541",
         "0",
         "Chittoor",
         "Chittoor",
         "4170468.0",
         "15152.0",
         "275.0"
        ],
        [
         "16",
         "Andhra Pradesh",
         "2018",
         "1",
         "East Godavari",
         "AP03",
         "943935",
         "1235785516",
         "1309.0",
         "350356",
         "0",
         "Kakinada",
         "East Godavari",
         "5151549.0",
         "10807.0",
         "477.0"
        ],
        [
         "17",
         "Andhra Pradesh",
         "2018",
         "1",
         "Guntur",
         "AP04",
         "815932",
         "1108686589",
         "1359.0",
         "317065",
         "0",
         "Guntur",
         "Guntur",
         "4889230.0",
         "11391.0",
         "429.0"
        ],
        [
         "18",
         "Andhra Pradesh",
         "2018",
         "1",
         "Krishna",
         "AP05",
         "863935",
         "1284255180",
         "1487.0",
         "323673",
         "0",
         "Machilipatnam",
         "Krishna",
         "4529009.0",
         "8727.0",
         "519.0"
        ],
        [
         "19",
         "Andhra Pradesh",
         "2018",
         "1",
         "Kurnool",
         "AP06",
         "679623",
         "764905299",
         "1125.0",
         "240133",
         "0",
         "Kurnool",
         "Kurnool",
         "4046601.0",
         "17658.0",
         "229.0"
        ],
        [
         "20",
         "Andhra Pradesh",
         "2018",
         "1",
         "Prakasam",
         "AP07",
         "534757",
         "748990776",
         "1401.0",
         "189949",
         "0",
         "Ongole",
         "Prakasam",
         "3392764.0",
         "17626.0",
         "192.0"
        ],
        [
         "21",
         "Andhra Pradesh",
         "2018",
         "1",
         "Srikakulam",
         "AP09",
         "458921",
         "587778029",
         "1281.0",
         "143839",
         "0",
         "Srikakulam",
         "Srikakulam",
         "2699471.0",
         "5837.0",
         "462.0"
        ],
        [
         "22",
         "Andhra Pradesh",
         "2018",
         "1",
         "Visakhapatnam",
         "AP10",
         "1256469",
         "1749966197",
         "1393.0",
         "497187",
         "0",
         "Visakhapatnam",
         "Visakhapatnam",
         "4288113.0",
         "11161.0",
         "384.0"
        ],
        [
         "23",
         "Andhra Pradesh",
         "2018",
         "1",
         "Vizianagaram",
         "AP11",
         "420990",
         "505783446",
         "1201.0",
         "128905",
         "0",
         "Vizianagaram",
         "Vizianagaram",
         "2342868.0",
         "6539.0",
         "358.0"
        ],
        [
         "24",
         "Andhra Pradesh",
         "2018",
         "1",
         "West Godavari",
         "AP12",
         "577090",
         "853547669",
         "1479.0",
         "213335",
         "0",
         "Eluru",
         "West Godavari",
         "3934782.0",
         "7742.0",
         "490.0"
        ],
        [
         "25",
         "Andhra Pradesh",
         "2018",
         "2",
         "Anantapur",
         "AP01",
         "937023",
         "1690366079",
         "1804.0",
         "326383",
         "0",
         "Anantapur",
         "Anantapur",
         "4083315.0",
         "19130.0",
         "213.0"
        ],
        [
         "26",
         "Andhra Pradesh",
         "2018",
         "2",
         "Chittoor",
         "AP02",
         "1185723",
         "1990419126",
         "1679.0",
         "414306",
         "0",
         "Chittoor",
         "Chittoor",
         "4170468.0",
         "15152.0",
         "275.0"
        ],
        [
         "27",
         "Andhra Pradesh",
         "2018",
         "2",
         "East Godavari",
         "AP03",
         "1221677",
         "2168914928",
         "1775.0",
         "454398",
         "0",
         "Kakinada",
         "East Godavari",
         "5151549.0",
         "10807.0",
         "477.0"
        ],
        [
         "28",
         "Andhra Pradesh",
         "2018",
         "2",
         "Guntur",
         "AP04",
         "1088101",
         "2108475812",
         "1938.0",
         "420326",
         "0",
         "Guntur",
         "Guntur",
         "4889230.0",
         "11391.0",
         "429.0"
        ],
        [
         "29",
         "Andhra Pradesh",
         "2018",
         "2",
         "Krishna",
         "AP05",
         "1224987",
         "2448141593",
         "1999.0",
         "431965",
         "0",
         "Machilipatnam",
         "Krishna",
         "4529009.0",
         "8727.0",
         "519.0"
        ],
        [
         "30",
         "Andhra Pradesh",
         "2018",
         "2",
         "Kurnool",
         "AP06",
         "968439",
         "1531888666",
         "1582.0",
         "319313",
         "0",
         "Kurnool",
         "Kurnool",
         "4046601.0",
         "17658.0",
         "229.0"
        ],
        [
         "31",
         "Andhra Pradesh",
         "2018",
         "2",
         "Prakasam",
         "AP07",
         "739991",
         "1571167562",
         "2123.0",
         "253458",
         "0",
         "Ongole",
         "Prakasam",
         "3392764.0",
         "17626.0",
         "192.0"
        ],
        [
         "32",
         "Andhra Pradesh",
         "2018",
         "2",
         "Srikakulam",
         "AP09",
         "559868",
         "929392017",
         "1660.0",
         "186913",
         "0",
         "Srikakulam",
         "Srikakulam",
         "2699471.0",
         "5837.0",
         "462.0"
        ],
        [
         "33",
         "Andhra Pradesh",
         "2018",
         "2",
         "Visakhapatnam",
         "AP10",
         "1641192",
         "2987853607",
         "1821.0",
         "636052",
         "0",
         "Visakhapatnam",
         "Visakhapatnam",
         "4288113.0",
         "11161.0",
         "384.0"
        ],
        [
         "34",
         "Andhra Pradesh",
         "2018",
         "2",
         "Vizianagaram",
         "AP11",
         "529588",
         "811711368",
         "1533.0",
         "167327",
         "0",
         "Vizianagaram",
         "Vizianagaram",
         "2342868.0",
         "6539.0",
         "358.0"
        ],
        [
         "35",
         "Andhra Pradesh",
         "2018",
         "2",
         "West Godavari",
         "AP12",
         "786033",
         "1688025212",
         "2148.0",
         "282393",
         "0",
         "Eluru",
         "West Godavari",
         "3934782.0",
         "7742.0",
         "490.0"
        ],
        [
         "36",
         "Andhra Pradesh",
         "2018",
         "3",
         "Anantapur",
         "AP01",
         "1815215",
         "2681787750",
         "1477.0",
         "405855",
         "0",
         "Anantapur",
         "Anantapur",
         "4083315.0",
         "19130.0",
         "213.0"
        ],
        [
         "37",
         "Andhra Pradesh",
         "2018",
         "3",
         "Chittoor",
         "AP02",
         "2297429",
         "3283517631",
         "1429.0",
         "515727",
         "0",
         "Chittoor",
         "Chittoor",
         "4170468.0",
         "15152.0",
         "275.0"
        ],
        [
         "38",
         "Andhra Pradesh",
         "2018",
         "3",
         "East Godavari",
         "AP03",
         "3226907",
         "3551247095",
         "1101.0",
         "558982",
         "0",
         "Kakinada",
         "East Godavari",
         "5151549.0",
         "10807.0",
         "477.0"
        ],
        [
         "39",
         "Andhra Pradesh",
         "2018",
         "3",
         "Guntur",
         "AP04",
         "1912529",
         "3127764663",
         "1635.0",
         "518931",
         "0",
         "Guntur",
         "Guntur",
         "4889230.0",
         "11391.0",
         "429.0"
        ],
        [
         "40",
         "Andhra Pradesh",
         "2018",
         "3",
         "Krishna",
         "AP05",
         "2396934",
         "3754202654",
         "1566.0",
         "537086",
         "0",
         "Machilipatnam",
         "Krishna",
         "4529009.0",
         "8727.0",
         "519.0"
        ],
        [
         "41",
         "Andhra Pradesh",
         "2018",
         "3",
         "Kurnool",
         "AP06",
         "2921189",
         "2908389262",
         "996.0",
         "394311",
         "0",
         "Kurnool",
         "Kurnool",
         "4046601.0",
         "17658.0",
         "229.0"
        ],
        [
         "42",
         "Andhra Pradesh",
         "2018",
         "3",
         "Prakasam",
         "AP07",
         "1319651",
         "2346453445",
         "1778.0",
         "314899",
         "0",
         "Ongole",
         "Prakasam",
         "3392764.0",
         "17626.0",
         "192.0"
        ],
        [
         "43",
         "Andhra Pradesh",
         "2018",
         "3",
         "Srikakulam",
         "AP09",
         "1073883",
         "1318322237",
         "1228.0",
         "228456",
         "0",
         "Srikakulam",
         "Srikakulam",
         "2699471.0",
         "5837.0",
         "462.0"
        ],
        [
         "44",
         "Andhra Pradesh",
         "2018",
         "3",
         "Visakhapatnam",
         "AP10",
         "3394576",
         "4821892253",
         "1420.0",
         "769096",
         "0",
         "Visakhapatnam",
         "Visakhapatnam",
         "4288113.0",
         "11161.0",
         "384.0"
        ],
        [
         "45",
         "Andhra Pradesh",
         "2018",
         "3",
         "Vizianagaram",
         "AP11",
         "970132",
         "1163546007",
         "1199.0",
         "203655",
         "0",
         "Vizianagaram",
         "Vizianagaram",
         "2342868.0",
         "6539.0",
         "358.0"
        ],
        [
         "46",
         "Andhra Pradesh",
         "2018",
         "3",
         "West Godavari",
         "AP12",
         "1431282",
         "2309078493",
         "1613.0",
         "349782",
         "0",
         "Eluru",
         "West Godavari",
         "3934782.0",
         "7742.0",
         "490.0"
        ],
        [
         "47",
         "Andhra Pradesh",
         "2018",
         "4",
         "Anantapur",
         "AP01",
         "2286391",
         "3975878156",
         "1739.0",
         "510892",
         "0",
         "Anantapur",
         "Anantapur",
         "4083315.0",
         "19130.0",
         "213.0"
        ],
        [
         "48",
         "Andhra Pradesh",
         "2018",
         "4",
         "Chittoor",
         "AP02",
         "3166201",
         "4979093890",
         "1573.0",
         "665280",
         "0",
         "Chittoor",
         "Chittoor",
         "4170468.0",
         "15152.0",
         "275.0"
        ],
        [
         "49",
         "Andhra Pradesh",
         "2018",
         "4",
         "East Godavari",
         "AP03",
         "3052762",
         "4652624623",
         "1524.0",
         "694455",
         "0",
         "Kakinada",
         "East Godavari",
         "5151549.0",
         "10807.0",
         "477.0"
        ]
       ],
       "shape": {
        "columns": 15,
        "rows": 8792
       }
      },
      "text/html": [
       "<div>\n",
       "<style scoped>\n",
       "    .dataframe tbody tr th:only-of-type {\n",
       "        vertical-align: middle;\n",
       "    }\n",
       "\n",
       "    .dataframe tbody tr th {\n",
       "        vertical-align: top;\n",
       "    }\n",
       "\n",
       "    .dataframe thead th {\n",
       "        text-align: right;\n",
       "    }\n",
       "</style>\n",
       "<table border=\"1\" class=\"dataframe\">\n",
       "  <thead>\n",
       "    <tr style=\"text-align: right;\">\n",
       "      <th></th>\n",
       "      <th>State</th>\n",
       "      <th>Year</th>\n",
       "      <th>Quarter</th>\n",
       "      <th>District</th>\n",
       "      <th>Code</th>\n",
       "      <th>Transactions</th>\n",
       "      <th>Amount (INR)</th>\n",
       "      <th>ATV (INR)</th>\n",
       "      <th>Registered Users</th>\n",
       "      <th>App Opens</th>\n",
       "      <th>Headquarters</th>\n",
       "      <th>Alternate Name</th>\n",
       "      <th>Population</th>\n",
       "      <th>Area (sq km)</th>\n",
       "      <th>Density</th>\n",
       "    </tr>\n",
       "  </thead>\n",
       "  <tbody>\n",
       "    <tr>\n",
       "      <th>0</th>\n",
       "      <td>Andaman &amp; Nicobar Islands</td>\n",
       "      <td>2018</td>\n",
       "      <td>1</td>\n",
       "      <td>South Andaman</td>\n",
       "      <td>AN03</td>\n",
       "      <td>5688</td>\n",
       "      <td>12560249</td>\n",
       "      <td>2208.0</td>\n",
       "      <td>5846</td>\n",
       "      <td>0</td>\n",
       "      <td>Port Blair</td>\n",
       "      <td>South Andaman</td>\n",
       "      <td>238142.0</td>\n",
       "      <td>2672.0</td>\n",
       "      <td>89.0</td>\n",
       "    </tr>\n",
       "    <tr>\n",
       "      <th>1</th>\n",
       "      <td>Andaman &amp; Nicobar Islands</td>\n",
       "      <td>2018</td>\n",
       "      <td>2</td>\n",
       "      <td>South Andaman</td>\n",
       "      <td>AN03</td>\n",
       "      <td>9395</td>\n",
       "      <td>23948236</td>\n",
       "      <td>2549.0</td>\n",
       "      <td>8143</td>\n",
       "      <td>0</td>\n",
       "      <td>Port Blair</td>\n",
       "      <td>South Andaman</td>\n",
       "      <td>238142.0</td>\n",
       "      <td>2672.0</td>\n",
       "      <td>89.0</td>\n",
       "    </tr>\n",
       "    <tr>\n",
       "      <th>2</th>\n",
       "      <td>Andaman &amp; Nicobar Islands</td>\n",
       "      <td>2018</td>\n",
       "      <td>3</td>\n",
       "      <td>South Andaman</td>\n",
       "      <td>AN03</td>\n",
       "      <td>13511</td>\n",
       "      <td>44268112</td>\n",
       "      <td>3276.0</td>\n",
       "      <td>10474</td>\n",
       "      <td>0</td>\n",
       "      <td>Port Blair</td>\n",
       "      <td>South Andaman</td>\n",
       "      <td>238142.0</td>\n",
       "      <td>2672.0</td>\n",
       "      <td>89.0</td>\n",
       "    </tr>\n",
       "    <tr>\n",
       "      <th>3</th>\n",
       "      <td>Andaman &amp; Nicobar Islands</td>\n",
       "      <td>2018</td>\n",
       "      <td>4</td>\n",
       "      <td>South Andaman</td>\n",
       "      <td>AN03</td>\n",
       "      <td>20136</td>\n",
       "      <td>75411841</td>\n",
       "      <td>3745.0</td>\n",
       "      <td>13133</td>\n",
       "      <td>0</td>\n",
       "      <td>Port Blair</td>\n",
       "      <td>South Andaman</td>\n",
       "      <td>238142.0</td>\n",
       "      <td>2672.0</td>\n",
       "      <td>89.0</td>\n",
       "    </tr>\n",
       "    <tr>\n",
       "      <th>4</th>\n",
       "      <td>Andaman &amp; Nicobar Islands</td>\n",
       "      <td>2019</td>\n",
       "      <td>1</td>\n",
       "      <td>South Andaman</td>\n",
       "      <td>AN03</td>\n",
       "      <td>25683</td>\n",
       "      <td>85501972</td>\n",
       "      <td>3329.0</td>\n",
       "      <td>15961</td>\n",
       "      <td>0</td>\n",
       "      <td>Port Blair</td>\n",
       "      <td>South Andaman</td>\n",
       "      <td>238142.0</td>\n",
       "      <td>2672.0</td>\n",
       "      <td>89.0</td>\n",
       "    </tr>\n",
       "    <tr>\n",
       "      <th>...</th>\n",
       "      <td>...</td>\n",
       "      <td>...</td>\n",
       "      <td>...</td>\n",
       "      <td>...</td>\n",
       "      <td>...</td>\n",
       "      <td>...</td>\n",
       "      <td>...</td>\n",
       "      <td>...</td>\n",
       "      <td>...</td>\n",
       "      <td>...</td>\n",
       "      <td>...</td>\n",
       "      <td>...</td>\n",
       "      <td>...</td>\n",
       "      <td>...</td>\n",
       "      <td>...</td>\n",
       "    </tr>\n",
       "    <tr>\n",
       "      <th>8787</th>\n",
       "      <td>West Bengal</td>\n",
       "      <td>2021</td>\n",
       "      <td>2</td>\n",
       "      <td>Paschim Medinipur</td>\n",
       "      <td>WB18</td>\n",
       "      <td>5051834</td>\n",
       "      <td>10303513379</td>\n",
       "      <td>2040.0</td>\n",
       "      <td>856640</td>\n",
       "      <td>16201033</td>\n",
       "      <td>Midnapore</td>\n",
       "      <td>Paschim Medinipur</td>\n",
       "      <td>4776909.0</td>\n",
       "      <td>6308.0</td>\n",
       "      <td>757.0</td>\n",
       "    </tr>\n",
       "    <tr>\n",
       "      <th>8788</th>\n",
       "      <td>West Bengal</td>\n",
       "      <td>2021</td>\n",
       "      <td>2</td>\n",
       "      <td>Purba Bardhaman</td>\n",
       "      <td>WB19</td>\n",
       "      <td>3920729</td>\n",
       "      <td>7572502416</td>\n",
       "      <td>1931.0</td>\n",
       "      <td>787970</td>\n",
       "      <td>12128849</td>\n",
       "      <td>Bardhaman</td>\n",
       "      <td>Purba Bardhaman</td>\n",
       "      <td>4835532.0</td>\n",
       "      <td>5433.0</td>\n",
       "      <td>890.0</td>\n",
       "    </tr>\n",
       "    <tr>\n",
       "      <th>8789</th>\n",
       "      <td>West Bengal</td>\n",
       "      <td>2021</td>\n",
       "      <td>2</td>\n",
       "      <td>Purba Medinipur</td>\n",
       "      <td>WB20</td>\n",
       "      <td>6418522</td>\n",
       "      <td>15155067721</td>\n",
       "      <td>2361.0</td>\n",
       "      <td>946277</td>\n",
       "      <td>15491958</td>\n",
       "      <td>Tamluk</td>\n",
       "      <td>Purba Medinipur</td>\n",
       "      <td>5095875.0</td>\n",
       "      <td>4736.0</td>\n",
       "      <td>1076.0</td>\n",
       "    </tr>\n",
       "    <tr>\n",
       "      <th>8790</th>\n",
       "      <td>West Bengal</td>\n",
       "      <td>2021</td>\n",
       "      <td>2</td>\n",
       "      <td>Purulia</td>\n",
       "      <td>WB21</td>\n",
       "      <td>1895981</td>\n",
       "      <td>2790996372</td>\n",
       "      <td>1472.0</td>\n",
       "      <td>435131</td>\n",
       "      <td>8843358</td>\n",
       "      <td>Purulia</td>\n",
       "      <td>Purulia</td>\n",
       "      <td>2927965.0</td>\n",
       "      <td>6259.0</td>\n",
       "      <td>468.0</td>\n",
       "    </tr>\n",
       "    <tr>\n",
       "      <th>8791</th>\n",
       "      <td>West Bengal</td>\n",
       "      <td>2021</td>\n",
       "      <td>2</td>\n",
       "      <td>Uttar Dinajpur</td>\n",
       "      <td>WB23</td>\n",
       "      <td>2253385</td>\n",
       "      <td>5564220751</td>\n",
       "      <td>2469.0</td>\n",
       "      <td>392388</td>\n",
       "      <td>8184990</td>\n",
       "      <td>Raiganj</td>\n",
       "      <td>Uttar Dinajpur</td>\n",
       "      <td>3000849.0</td>\n",
       "      <td>3180.0</td>\n",
       "      <td>956.0</td>\n",
       "    </tr>\n",
       "  </tbody>\n",
       "</table>\n",
       "<p>8792 rows × 15 columns</p>\n",
       "</div>"
      ],
      "text/plain": [
       "                          State  Year  Quarter           District  Code  \\\n",
       "0     Andaman & Nicobar Islands  2018        1      South Andaman  AN03   \n",
       "1     Andaman & Nicobar Islands  2018        2      South Andaman  AN03   \n",
       "2     Andaman & Nicobar Islands  2018        3      South Andaman  AN03   \n",
       "3     Andaman & Nicobar Islands  2018        4      South Andaman  AN03   \n",
       "4     Andaman & Nicobar Islands  2019        1      South Andaman  AN03   \n",
       "...                         ...   ...      ...                ...   ...   \n",
       "8787                West Bengal  2021        2  Paschim Medinipur  WB18   \n",
       "8788                West Bengal  2021        2    Purba Bardhaman  WB19   \n",
       "8789                West Bengal  2021        2    Purba Medinipur  WB20   \n",
       "8790                West Bengal  2021        2            Purulia  WB21   \n",
       "8791                West Bengal  2021        2     Uttar Dinajpur  WB23   \n",
       "\n",
       "      Transactions  Amount (INR)  ATV (INR)  Registered Users  App Opens  \\\n",
       "0             5688      12560249     2208.0              5846          0   \n",
       "1             9395      23948236     2549.0              8143          0   \n",
       "2            13511      44268112     3276.0             10474          0   \n",
       "3            20136      75411841     3745.0             13133          0   \n",
       "4            25683      85501972     3329.0             15961          0   \n",
       "...            ...           ...        ...               ...        ...   \n",
       "8787       5051834   10303513379     2040.0            856640   16201033   \n",
       "8788       3920729    7572502416     1931.0            787970   12128849   \n",
       "8789       6418522   15155067721     2361.0            946277   15491958   \n",
       "8790       1895981    2790996372     1472.0            435131    8843358   \n",
       "8791       2253385    5564220751     2469.0            392388    8184990   \n",
       "\n",
       "     Headquarters     Alternate Name  Population  Area (sq km)  Density  \n",
       "0      Port Blair      South Andaman    238142.0        2672.0     89.0  \n",
       "1      Port Blair      South Andaman    238142.0        2672.0     89.0  \n",
       "2      Port Blair      South Andaman    238142.0        2672.0     89.0  \n",
       "3      Port Blair      South Andaman    238142.0        2672.0     89.0  \n",
       "4      Port Blair      South Andaman    238142.0        2672.0     89.0  \n",
       "...           ...                ...         ...           ...      ...  \n",
       "8787    Midnapore  Paschim Medinipur   4776909.0        6308.0    757.0  \n",
       "8788    Bardhaman    Purba Bardhaman   4835532.0        5433.0    890.0  \n",
       "8789       Tamluk    Purba Medinipur   5095875.0        4736.0   1076.0  \n",
       "8790      Purulia            Purulia   2927965.0        6259.0    468.0  \n",
       "8791      Raiganj     Uttar Dinajpur   3000849.0        3180.0    956.0  \n",
       "\n",
       "[8792 rows x 15 columns]"
      ]
     },
     "execution_count": 106,
     "metadata": {},
     "output_type": "execute_result"
    }
   ],
   "source": [
    "merged_corr_demo = pd.merge(combined_4, combined_5, on=['State', 'District', 'Code'])\n",
    "\n",
    "merged_corr_demo"
   ]
  },
  {
   "cell_type": "code",
   "execution_count": 107,
   "id": "e6fb4be3",
   "metadata": {},
   "outputs": [
    {
     "name": "stdout",
     "output_type": "stream",
     "text": [
      "Correlation matrix:\n"
     ]
    },
    {
     "data": {
      "application/vnd.microsoft.datawrangler.viewer.v0+json": {
       "columns": [
        {
         "name": "index",
         "rawType": "object",
         "type": "string"
        },
        {
         "name": "Population",
         "rawType": "float64",
         "type": "float"
        },
        {
         "name": "Density",
         "rawType": "float64",
         "type": "float"
        },
        {
         "name": "Transactions",
         "rawType": "float64",
         "type": "float"
        },
        {
         "name": "Amount (INR)",
         "rawType": "float64",
         "type": "float"
        },
        {
         "name": "Registered Users",
         "rawType": "float64",
         "type": "float"
        }
       ],
       "ref": "0203fe09-32fc-43ad-bb91-4106f9e82970",
       "rows": [
        [
         "Population",
         "1.0",
         "0.30049060945917605",
         "0.36137042215406234",
         "0.3523222492673138",
         "0.6648791922701823"
        ],
        [
         "Density",
         "0.30049060945917605",
         "1.0",
         "0.3075625654664573",
         "0.33651024257421874",
         "0.3019877485262855"
        ],
        [
         "Transactions",
         "0.36137042215406234",
         "0.3075625654664573",
         "1.0",
         "0.9762919979139513",
         "0.8025632212100682"
        ],
        [
         "Amount (INR)",
         "0.3523222492673138",
         "0.33651024257421874",
         "0.9762919979139513",
         "1.0",
         "0.783424633320539"
        ],
        [
         "Registered Users",
         "0.6648791922701823",
         "0.3019877485262855",
         "0.8025632212100682",
         "0.783424633320539",
         "1.0"
        ]
       ],
       "shape": {
        "columns": 5,
        "rows": 5
       }
      },
      "text/html": [
       "<div>\n",
       "<style scoped>\n",
       "    .dataframe tbody tr th:only-of-type {\n",
       "        vertical-align: middle;\n",
       "    }\n",
       "\n",
       "    .dataframe tbody tr th {\n",
       "        vertical-align: top;\n",
       "    }\n",
       "\n",
       "    .dataframe thead th {\n",
       "        text-align: right;\n",
       "    }\n",
       "</style>\n",
       "<table border=\"1\" class=\"dataframe\">\n",
       "  <thead>\n",
       "    <tr style=\"text-align: right;\">\n",
       "      <th></th>\n",
       "      <th>Population</th>\n",
       "      <th>Density</th>\n",
       "      <th>Transactions</th>\n",
       "      <th>Amount (INR)</th>\n",
       "      <th>Registered Users</th>\n",
       "    </tr>\n",
       "  </thead>\n",
       "  <tbody>\n",
       "    <tr>\n",
       "      <th>Population</th>\n",
       "      <td>1.000000</td>\n",
       "      <td>0.300491</td>\n",
       "      <td>0.361370</td>\n",
       "      <td>0.352322</td>\n",
       "      <td>0.664879</td>\n",
       "    </tr>\n",
       "    <tr>\n",
       "      <th>Density</th>\n",
       "      <td>0.300491</td>\n",
       "      <td>1.000000</td>\n",
       "      <td>0.307563</td>\n",
       "      <td>0.336510</td>\n",
       "      <td>0.301988</td>\n",
       "    </tr>\n",
       "    <tr>\n",
       "      <th>Transactions</th>\n",
       "      <td>0.361370</td>\n",
       "      <td>0.307563</td>\n",
       "      <td>1.000000</td>\n",
       "      <td>0.976292</td>\n",
       "      <td>0.802563</td>\n",
       "    </tr>\n",
       "    <tr>\n",
       "      <th>Amount (INR)</th>\n",
       "      <td>0.352322</td>\n",
       "      <td>0.336510</td>\n",
       "      <td>0.976292</td>\n",
       "      <td>1.000000</td>\n",
       "      <td>0.783425</td>\n",
       "    </tr>\n",
       "    <tr>\n",
       "      <th>Registered Users</th>\n",
       "      <td>0.664879</td>\n",
       "      <td>0.301988</td>\n",
       "      <td>0.802563</td>\n",
       "      <td>0.783425</td>\n",
       "      <td>1.000000</td>\n",
       "    </tr>\n",
       "  </tbody>\n",
       "</table>\n",
       "</div>"
      ],
      "text/plain": [
       "                  Population   Density  Transactions  Amount (INR)  \\\n",
       "Population          1.000000  0.300491      0.361370      0.352322   \n",
       "Density             0.300491  1.000000      0.307563      0.336510   \n",
       "Transactions        0.361370  0.307563      1.000000      0.976292   \n",
       "Amount (INR)        0.352322  0.336510      0.976292      1.000000   \n",
       "Registered Users    0.664879  0.301988      0.802563      0.783425   \n",
       "\n",
       "                  Registered Users  \n",
       "Population                0.664879  \n",
       "Density                   0.301988  \n",
       "Transactions              0.802563  \n",
       "Amount (INR)              0.783425  \n",
       "Registered Users          1.000000  "
      ]
     },
     "execution_count": 107,
     "metadata": {},
     "output_type": "execute_result"
    }
   ],
   "source": [
    "correlation_matrix = merged_corr_demo[['Population', 'Density', 'Transactions', 'Amount (INR)', 'Registered Users']].corr()\n",
    "\n",
    "print(\"Correlation matrix:\")\n",
    "correlation_matrix"
   ]
  },
  {
   "cell_type": "markdown",
   "id": "41ea5cc2",
   "metadata": {},
   "source": [
    "6.3 summarize findings and insights"
   ]
  },
  {
   "cell_type": "code",
   "execution_count": 108,
   "id": "c230924a",
   "metadata": {},
   "outputs": [
    {
     "name": "stdout",
     "output_type": "stream",
     "text": [
      "Summary of correlation findings:\n"
     ]
    },
    {
     "data": {
      "application/vnd.microsoft.datawrangler.viewer.v0+json": {
       "columns": [
        {
         "name": "index",
         "rawType": "object",
         "type": "string"
        },
        {
         "name": "Population",
         "rawType": "float64",
         "type": "float"
        },
        {
         "name": "Density",
         "rawType": "float64",
         "type": "float"
        },
        {
         "name": "Transactions",
         "rawType": "float64",
         "type": "float"
        },
        {
         "name": "Amount (INR)",
         "rawType": "float64",
         "type": "float"
        },
        {
         "name": "Registered Users",
         "rawType": "float64",
         "type": "float"
        }
       ],
       "ref": "e35d6e34-8a3b-4a5f-8c4f-62e3702caa4c",
       "rows": [
        [
         "count",
         "5.0",
         "5.0",
         "5.0",
         "5.0",
         "5.0"
        ],
        [
         "mean",
         "0.5358124946301469",
         "0.4493102332052275",
         "0.6895576413489077",
         "0.6897098246152046",
         "0.710570959065415"
        ],
        [
         "std",
         "0.2964807535973775",
         "0.3081909527192966",
         "0.33353725399146367",
         "0.3262560808309529",
         "0.25815081898505016"
        ],
        [
         "min",
         "0.30049060945917605",
         "0.30049060945917605",
         "0.3075625654664573",
         "0.33651024257421874",
         "0.3019877485262855"
        ],
        [
         "25%",
         "0.3523222492673138",
         "0.3019877485262855",
         "0.36137042215406234",
         "0.3523222492673138",
         "0.6648791922701823"
        ],
        [
         "50%",
         "0.36137042215406234",
         "0.3075625654664573",
         "0.8025632212100682",
         "0.783424633320539",
         "0.783424633320539"
        ],
        [
         "75%",
         "0.6648791922701823",
         "0.33651024257421874",
         "0.9762919979139513",
         "0.9762919979139513",
         "0.8025632212100682"
        ],
        [
         "max",
         "1.0",
         "1.0",
         "1.0",
         "1.0",
         "1.0"
        ]
       ],
       "shape": {
        "columns": 5,
        "rows": 8
       }
      },
      "text/html": [
       "<div>\n",
       "<style scoped>\n",
       "    .dataframe tbody tr th:only-of-type {\n",
       "        vertical-align: middle;\n",
       "    }\n",
       "\n",
       "    .dataframe tbody tr th {\n",
       "        vertical-align: top;\n",
       "    }\n",
       "\n",
       "    .dataframe thead th {\n",
       "        text-align: right;\n",
       "    }\n",
       "</style>\n",
       "<table border=\"1\" class=\"dataframe\">\n",
       "  <thead>\n",
       "    <tr style=\"text-align: right;\">\n",
       "      <th></th>\n",
       "      <th>Population</th>\n",
       "      <th>Density</th>\n",
       "      <th>Transactions</th>\n",
       "      <th>Amount (INR)</th>\n",
       "      <th>Registered Users</th>\n",
       "    </tr>\n",
       "  </thead>\n",
       "  <tbody>\n",
       "    <tr>\n",
       "      <th>count</th>\n",
       "      <td>5.000000</td>\n",
       "      <td>5.000000</td>\n",
       "      <td>5.000000</td>\n",
       "      <td>5.000000</td>\n",
       "      <td>5.000000</td>\n",
       "    </tr>\n",
       "    <tr>\n",
       "      <th>mean</th>\n",
       "      <td>0.535812</td>\n",
       "      <td>0.449310</td>\n",
       "      <td>0.689558</td>\n",
       "      <td>0.689710</td>\n",
       "      <td>0.710571</td>\n",
       "    </tr>\n",
       "    <tr>\n",
       "      <th>std</th>\n",
       "      <td>0.296481</td>\n",
       "      <td>0.308191</td>\n",
       "      <td>0.333537</td>\n",
       "      <td>0.326256</td>\n",
       "      <td>0.258151</td>\n",
       "    </tr>\n",
       "    <tr>\n",
       "      <th>min</th>\n",
       "      <td>0.300491</td>\n",
       "      <td>0.300491</td>\n",
       "      <td>0.307563</td>\n",
       "      <td>0.336510</td>\n",
       "      <td>0.301988</td>\n",
       "    </tr>\n",
       "    <tr>\n",
       "      <th>25%</th>\n",
       "      <td>0.352322</td>\n",
       "      <td>0.301988</td>\n",
       "      <td>0.361370</td>\n",
       "      <td>0.352322</td>\n",
       "      <td>0.664879</td>\n",
       "    </tr>\n",
       "    <tr>\n",
       "      <th>50%</th>\n",
       "      <td>0.361370</td>\n",
       "      <td>0.307563</td>\n",
       "      <td>0.802563</td>\n",
       "      <td>0.783425</td>\n",
       "      <td>0.783425</td>\n",
       "    </tr>\n",
       "    <tr>\n",
       "      <th>75%</th>\n",
       "      <td>0.664879</td>\n",
       "      <td>0.336510</td>\n",
       "      <td>0.976292</td>\n",
       "      <td>0.976292</td>\n",
       "      <td>0.802563</td>\n",
       "    </tr>\n",
       "    <tr>\n",
       "      <th>max</th>\n",
       "      <td>1.000000</td>\n",
       "      <td>1.000000</td>\n",
       "      <td>1.000000</td>\n",
       "      <td>1.000000</td>\n",
       "      <td>1.000000</td>\n",
       "    </tr>\n",
       "  </tbody>\n",
       "</table>\n",
       "</div>"
      ],
      "text/plain": [
       "       Population   Density  Transactions  Amount (INR)  Registered Users\n",
       "count    5.000000  5.000000      5.000000      5.000000          5.000000\n",
       "mean     0.535812  0.449310      0.689558      0.689710          0.710571\n",
       "std      0.296481  0.308191      0.333537      0.326256          0.258151\n",
       "min      0.300491  0.300491      0.307563      0.336510          0.301988\n",
       "25%      0.352322  0.301988      0.361370      0.352322          0.664879\n",
       "50%      0.361370  0.307563      0.802563      0.783425          0.783425\n",
       "75%      0.664879  0.336510      0.976292      0.976292          0.802563\n",
       "max      1.000000  1.000000      1.000000      1.000000          1.000000"
      ]
     },
     "execution_count": 108,
     "metadata": {},
     "output_type": "execute_result"
    }
   ],
   "source": [
    "correlation_summary = correlation_matrix.describe()\n",
    "print(\"Summary of correlation findings:\")\n",
    "correlation_summary"
   ]
  }
 ],
 "metadata": {
  "kernelspec": {
   "display_name": "Python 3",
   "language": "python",
   "name": "python3"
  },
  "language_info": {
   "codemirror_mode": {
    "name": "ipython",
    "version": 3
   },
   "file_extension": ".py",
   "mimetype": "text/x-python",
   "name": "python",
   "nbconvert_exporter": "python",
   "pygments_lexer": "ipython3",
   "version": "3.13.6"
  }
 },
 "nbformat": 4,
 "nbformat_minor": 5
}
